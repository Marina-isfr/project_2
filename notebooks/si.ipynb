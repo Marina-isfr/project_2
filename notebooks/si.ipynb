{
 "cells": [
  {
   "cell_type": "code",
   "execution_count": 22,
   "id": "360b72da-1dbf-49ad-b047-3a4b5447a875",
   "metadata": {
    "tags": []
   },
   "outputs": [
    {
     "data": {
      "text/plain": [
       "array(['Test', 'other', 'Control'], dtype=object)"
      ]
     },
     "execution_count": 22,
     "metadata": {},
     "output_type": "execute_result"
    }
   ],
   "source": [
    "import numpy as np\n",
    "import pandas as pd\n",
    "import matplotlib.pyplot as plt\n",
    "import os\n",
    "import seaborn as sns\n",
    "\n",
    "pidf = pd.read_csv('/Users/marina/Desktop/project_2/data/clean/pidf.csv')\n",
    "pidf.columns\n",
    "pidf['variation'].unique()"
   ]
  },
  {
   "cell_type": "code",
   "execution_count": 26,
   "id": "c2ebb7be-f437-4abd-bb20-78ac9fb4b9c6",
   "metadata": {
    "tags": []
   },
   "outputs": [
    {
     "name": "stdout",
     "output_type": "stream",
     "text": [
      "Original DataFrame:\n",
      "<class 'pandas.core.frame.DataFrame'>\n",
      "RangeIndex: 158555 entries, 0 to 158554\n",
      "Data columns (total 22 columns):\n",
      " #   Column            Non-Null Count   Dtype  \n",
      "---  ------            --------------   -----  \n",
      " 0   client_id         158555 non-null  int64  \n",
      " 1   clnt_tenure_yr    158555 non-null  int64  \n",
      " 2   clnt_tenure_mnth  158555 non-null  int64  \n",
      " 3   clnt_age          158555 non-null  int64  \n",
      " 4   gendr             158555 non-null  object \n",
      " 5   num_accts         158555 non-null  int64  \n",
      " 6   bal               158555 non-null  float64\n",
      " 7   calls_6_mnth      158555 non-null  int64  \n",
      " 8   logons_6_mnth     158555 non-null  int64  \n",
      " 9   visitor_id        158555 non-null  object \n",
      " 10  visit_id          158555 non-null  object \n",
      " 11  start             145357 non-null  object \n",
      " 12  step_1            119705 non-null  object \n",
      " 13  step_2            104780 non-null  object \n",
      " 14  step_3            95529 non-null   object \n",
      " 15  confirm           90248 non-null   object \n",
      " 16  start_step1       118282 non-null  float64\n",
      " 17  step1_step2       104140 non-null  float64\n",
      " 18  step2_step3       94256 non-null   float64\n",
      " 19  step3_confirm     79882 non-null   float64\n",
      " 20  start_confirm     77748 non-null   float64\n",
      " 21  variation         158555 non-null  object \n",
      "dtypes: float64(6), int64(7), object(9)\n",
      "memory usage: 26.6+ MB\n",
      "None\n",
      "\n",
      "Control DataFrame:\n",
      "<class 'pandas.core.frame.DataFrame'>\n",
      "Index: 32181 entries, 4 to 158549\n",
      "Data columns (total 22 columns):\n",
      " #   Column            Non-Null Count  Dtype  \n",
      "---  ------            --------------  -----  \n",
      " 0   client_id         32181 non-null  int64  \n",
      " 1   clnt_tenure_yr    32181 non-null  int64  \n",
      " 2   clnt_tenure_mnth  32181 non-null  int64  \n",
      " 3   clnt_age          32181 non-null  int64  \n",
      " 4   gendr             32181 non-null  object \n",
      " 5   num_accts         32181 non-null  int64  \n",
      " 6   bal               32181 non-null  float64\n",
      " 7   calls_6_mnth      32181 non-null  int64  \n",
      " 8   logons_6_mnth     32181 non-null  int64  \n",
      " 9   visitor_id        32181 non-null  object \n",
      " 10  visit_id          32181 non-null  object \n",
      " 11  start             30912 non-null  object \n",
      " 12  step_1            23558 non-null  object \n",
      " 13  step_2            20157 non-null  object \n",
      " 14  step_3            18321 non-null  object \n",
      " 15  confirm           16061 non-null  object \n",
      " 16  start_step1       23292 non-null  float64\n",
      " 17  step1_step2       20045 non-null  float64\n",
      " 18  step2_step3       18093 non-null  float64\n",
      " 19  step3_confirm     15274 non-null  float64\n",
      " 20  start_confirm     14927 non-null  float64\n",
      " 21  variation         32181 non-null  object \n",
      "dtypes: float64(6), int64(7), object(9)\n",
      "memory usage: 5.6+ MB\n",
      "None\n",
      "\n",
      "Test DataFrame:\n",
      "<class 'pandas.core.frame.DataFrame'>\n",
      "Index: 37122 entries, 0 to 158551\n",
      "Data columns (total 22 columns):\n",
      " #   Column            Non-Null Count  Dtype  \n",
      "---  ------            --------------  -----  \n",
      " 0   client_id         37122 non-null  int64  \n",
      " 1   clnt_tenure_yr    37122 non-null  int64  \n",
      " 2   clnt_tenure_mnth  37122 non-null  int64  \n",
      " 3   clnt_age          37122 non-null  int64  \n",
      " 4   gendr             37122 non-null  object \n",
      " 5   num_accts         37122 non-null  int64  \n",
      " 6   bal               37122 non-null  float64\n",
      " 7   calls_6_mnth      37122 non-null  int64  \n",
      " 8   logons_6_mnth     37122 non-null  int64  \n",
      " 9   visitor_id        37122 non-null  object \n",
      " 10  visit_id          37122 non-null  object \n",
      " 11  start             33153 non-null  object \n",
      " 12  step_1            28283 non-null  object \n",
      " 13  step_2            24507 non-null  object \n",
      " 14  step_3            22196 non-null  object \n",
      " 15  confirm           21737 non-null  object \n",
      " 16  start_step1       28023 non-null  float64\n",
      " 17  step1_step2       24348 non-null  float64\n",
      " 18  step2_step3       21931 non-null  float64\n",
      " 19  step3_confirm     18349 non-null  float64\n",
      " 20  start_confirm     17923 non-null  float64\n",
      " 21  variation         37122 non-null  object \n",
      "dtypes: float64(6), int64(7), object(9)\n",
      "memory usage: 6.5+ MB\n",
      "None\n"
     ]
    }
   ],
   "source": [
    "controldf = pidf[pidf['variation'] == 'Control']\n",
    "\n",
    "# Create a dataframe where 'variation' is 'test'\n",
    "testdf= pidf[pidf['variation'] == 'Test']\n",
    "\n",
    "print(\"Original DataFrame:\")\n",
    "print(pidf.info())\n",
    "print(\"\\nControl DataFrame:\")\n",
    "print(controldf.info())\n",
    "print(\"\\nTest DataFrame:\")\n",
    "print(testdf.info())\n"
   ]
  },
  {
   "cell_type": "code",
   "execution_count": 31,
   "id": "35ac1c4c-15e5-454b-ad91-0f87ebdb4937",
   "metadata": {
    "tags": []
   },
   "outputs": [
    {
     "name": "stdout",
     "output_type": "stream",
     "text": [
      "Statistics for column: start_step1\n",
      "Min: 0.02\n",
      "Max: 187.02\n",
      "Mean: 0.96\n",
      "\n",
      "Statistics for column: step1_step2\n",
      "Min: 0.02\n",
      "Max: 112.1\n",
      "Mean: 0.9\n",
      "\n",
      "Statistics for column: step2_step3\n",
      "Min: 0.03\n",
      "Max: 49.68\n",
      "Mean: 1.67\n",
      "\n",
      "Statistics for column: step3_confirm\n",
      "Min: 0.02\n",
      "Max: 157.68\n",
      "Mean: 2.32\n",
      "\n",
      "Statistics for column: start_confirm\n",
      "Min: 0.55\n",
      "Max: 189.18\n",
      "Mean: 5.67\n",
      "\n"
     ]
    }
   ],
   "source": [
    "# MIN MAX MEAN OF TIME ELAPSES BETWEEN STEPS FOR CONTROL GROUP\n",
    "\n",
    "# Define the columns to be analyzed\n",
    "time_diff_columns = ['start_step1', 'step1_step2', 'step2_step3', 'step3_confirm', 'start_confirm']\n",
    "\n",
    "# Filter out rows with positive values in the specified columns\n",
    "fildf = controldf[controldf[time_diff_columns] > 0]\n",
    "\n",
    "# Calculate the min, max, and average for each time difference column\n",
    "result = fildf[time_diff_columns].agg(['min', 'max', 'mean'])\n",
    "\n",
    "# Display the result for each column\n",
    "for column in time_diff_columns:\n",
    "    print(f\"Statistics for column: {column}\")\n",
    "    print(\"Min:\", result.loc['min', column])\n",
    "    print(\"Max:\", result.loc['max', column])\n",
    "    print(\"Mean:\", result.loc['mean', column].round(2))\n",
    "    print()"
   ]
  },
  {
   "cell_type": "code",
   "execution_count": 33,
   "id": "c8a8c052-dbfc-455b-92f2-3461636da957",
   "metadata": {
    "tags": []
   },
   "outputs": [
    {
     "name": "stdout",
     "output_type": "stream",
     "text": [
      "Statistics for column: start_step1\n",
      "Min: 0.02\n",
      "Max: 102.05\n",
      "Mean: 0.83\n",
      "\n",
      "Statistics for column: step1_step2\n",
      "Min: 0.02\n",
      "Max: 113.93\n",
      "Mean: 0.9\n",
      "\n",
      "Statistics for column: step2_step3\n",
      "Min: 0.02\n",
      "Max: 187.2\n",
      "Mean: 1.69\n",
      "\n",
      "Statistics for column: step3_confirm\n",
      "Min: 0.02\n",
      "Max: 275.87\n",
      "Mean: 2.37\n",
      "\n",
      "Statistics for column: start_confirm\n",
      "Min: 0.05\n",
      "Max: 300.25\n",
      "Mean: 5.45\n",
      "\n"
     ]
    }
   ],
   "source": [
    "# MIN MAX MEAN OF TIME ELAPSES BETWEEN STEPS FOR TEST GROUP\n",
    "\n",
    "# Define the columns to be analyzed\n",
    "time_diff_columns = ['start_step1', 'step1_step2', 'step2_step3', 'step3_confirm', 'start_confirm']\n",
    "\n",
    "# Filter out rows with positive values in the specified columns\n",
    "fildf = testdf[testdf[time_diff_columns] > 0]\n",
    "\n",
    "# Calculate the min, max, and average for each time difference column\n",
    "result = fildf[time_diff_columns].agg(['min', 'max', 'mean'])\n",
    "\n",
    "# Display the result for each column\n",
    "for column in time_diff_columns:\n",
    "    print(f\"Statistics for column: {column}\")\n",
    "    print(\"Min:\", result.loc['min', column])\n",
    "    print(\"Max:\", result.loc['max', column])\n",
    "    print(\"Mean:\", result.loc['mean', column].round(2))\n",
    "    print()"
   ]
  },
  {
   "cell_type": "code",
   "execution_count": 40,
   "id": "236c585c-df44-4116-92e5-aebf1118c122",
   "metadata": {
    "tags": []
   },
   "outputs": [
    {
     "name": "stdout",
     "output_type": "stream",
     "text": [
      "Total number of rows: 32181\n",
      "Number of rows without any null values in specified columns: 14819\n",
      "Number of rows with any null values in specified columns: 17362\n"
     ]
    }
   ],
   "source": [
    "# number of people in control that have completed all the steps for control\n",
    "\n",
    "# Total number of rows\n",
    "total_rows= controldf.shape[0]\n",
    "\n",
    "# Number of rows without any null values in specified columns\n",
    "non_null_rows = controldf.dropna(subset=['start', 'step_1', 'step_2', 'step_3', 'confirm']).shape[0]\n",
    "\n",
    "# Number of rows with any null values in specified columns\n",
    "null_rows = total_rows - non_null_rows\n",
    "\n",
    "print(\"Total number of rows:\", total_rows)\n",
    "print(\"Number of rows without any null values in specified columns:\", non_null_rows)\n",
    "print(\"Number of rows with any null values in specified columns:\", null_rows)"
   ]
  },
  {
   "cell_type": "code",
   "execution_count": 42,
   "id": "35b156d7-dc1e-4935-8f6b-8908f5aa947c",
   "metadata": {
    "tags": []
   },
   "outputs": [
    {
     "name": "stdout",
     "output_type": "stream",
     "text": [
      "Total number of rows: 37122\n",
      "Number of rows without any null values in specified columns: 17859\n",
      "Number of rows with any null values in specified columns: 19263\n"
     ]
    }
   ],
   "source": [
    "# number of people in control that have completed all the steps for test\n",
    "\n",
    "# Total number of rows\n",
    "total_rows = testdf.shape[0]\n",
    "\n",
    "# Number of rows without any null values in specified columns\n",
    "non_null_rows= testdf.dropna(subset=['start', 'step_1', 'step_2', 'step_3', 'confirm']).shape[0]\n",
    "\n",
    "# Number of rows with any null values in specified columns\n",
    "null_rows = total_rows - non_null_rows\n",
    "\n",
    "print(\"Total number of rows:\", total_rows)\n",
    "print(\"Number of rows without any null values in specified columns:\", non_null_rows)\n",
    "print(\"Number of rows with any null values in specified columns:\", null_rows)"
   ]
  },
  {
   "cell_type": "code",
   "execution_count": 46,
   "id": "1e08d9e7-3523-4be2-85ef-216f710a0483",
   "metadata": {
    "tags": []
   },
   "outputs": [
    {
     "name": "stdout",
     "output_type": "stream",
     "text": [
      "For column start:\n",
      "Count: 7557, Percentage: 23.48%\n",
      "\n",
      "For column step_1:\n",
      "Count: 20, Percentage: 0.06%\n",
      "\n",
      "For column step_2:\n",
      "Count: 9, Percentage: 0.03%\n",
      "\n",
      "For column step_3:\n",
      "Count: 18, Percentage: 0.06%\n",
      "\n",
      "For column confirm:\n",
      "Count: 755, Percentage: 2.35%\n",
      "\n"
     ]
    }
   ],
   "source": [
    "# Total number of visit_id\n",
    "total_visits = controldf['visit_id'].nunique()\n",
    "\n",
    "# Function to calculate count and percentage\n",
    "def calculate_non_null_and_null(controldf, non_null_col, null_cols):\n",
    "    count = controldf[(controldf[non_null_col].notnull()) & (controldf[null_cols].isnull().all(axis=1))]['visit_id'].nunique()\n",
    "    percentage = (count / total_visits) * 100\n",
    "    return count, percentage\n",
    "\n",
    "# Calculations\n",
    "conresults = {}\n",
    "conresults['start'] = calculate_non_null_and_null(controldf, 'start', ['step_1', 'step_2', 'step_3', 'confirm'])\n",
    "conresults['step_1'] = calculate_non_null_and_null(controldf, 'step_1', ['start', 'step_2', 'step_3', 'confirm'])\n",
    "conresults['step_2'] = calculate_non_null_and_null(controldf, 'step_2', ['start', 'step_1', 'step_3', 'confirm'])\n",
    "conresults['step_3'] = calculate_non_null_and_null(controldf, 'step_3', ['start', 'step_1', 'step_2', 'confirm'])\n",
    "conresults['confirm'] = calculate_non_null_and_null(controldf, 'confirm', ['start', 'step_1', 'step_2', 'step_3'])\n",
    "\n",
    "# Print results\n",
    "for key, value in conresults.items():\n",
    "    print(f\"For column {key}:\")\n",
    "    print(f\"Count: {value[0]}, Percentage: {value[1]:.2f}%\\n\")"
   ]
  },
  {
   "cell_type": "code",
   "execution_count": 66,
   "id": "e290cd92-965e-4af1-9a84-b17a7e9bc9a2",
   "metadata": {
    "tags": []
   },
   "outputs": [
    {
     "name": "stdout",
     "output_type": "stream",
     "text": [
      "start: 30912 non-null values (96.06% of total visit_id)\n",
      "step_1: 23558 non-null values (73.20% of total visit_id)\n",
      "step_2: 20157 non-null values (62.64% of total visit_id)\n",
      "step_3: 18321 non-null values (56.93% of total visit_id)\n",
      "confirm: 16061 non-null values (49.91% of total visit_id)\n"
     ]
    }
   ],
   "source": [
    "#  for control group how manany people have reached to each step\n",
    "total_visit_id = controldf['visit_id'].count()\n",
    "\n",
    "# Create a dictionary to hold the results\n",
    "results = {}\n",
    "\n",
    "for column in columns_to_check:\n",
    "    # Count the number of non-null values in the column\n",
    "    non_null_count = controldf[column].notnull().sum()\n",
    "    \n",
    "    # Calculate the percentage of the total visit_id\n",
    "    percentage = (non_null_count / total_visit_id) * 100\n",
    "    \n",
    "    # Store the results in the dictionary\n",
    "    results[column] = {'count': non_null_count, 'percentage': percentage}\n",
    "\n",
    "# Display the results\n",
    "for column, result in results.items():\n",
    "    print(f\"{column}: {result['count']} non-null values ({result['percentage']:.2f}% of total visit_id)\")\n"
   ]
  },
  {
   "cell_type": "code",
   "execution_count": 68,
   "id": "021a1622-b77e-4cf1-b9f9-fe1354908678",
   "metadata": {
    "tags": []
   },
   "outputs": [
    {
     "name": "stdout",
     "output_type": "stream",
     "text": [
      "start: 33153 non-null values (89.31% of total visit_id)\n",
      "step_1: 28283 non-null values (76.19% of total visit_id)\n",
      "step_2: 24507 non-null values (66.02% of total visit_id)\n",
      "step_3: 22196 non-null values (59.79% of total visit_id)\n",
      "confirm: 21737 non-null values (58.56% of total visit_id)\n"
     ]
    }
   ],
   "source": [
    "#  for test group how many people have reached to each step\n",
    "total_visit_id = testdf['visit_id'].count()\n",
    "\n",
    "# Create a dictionary to hold the results\n",
    "results = {}\n",
    "\n",
    "for column in columns_to_check:\n",
    "    # Count the number of non-null values in the column\n",
    "    non_null_count = testdf[column].notnull().sum()\n",
    "    \n",
    "    # Calculate the percentage of the total visit_id\n",
    "    percentage = (non_null_count / total_visit_id) * 100\n",
    "    \n",
    "    # Store the results in the dictionary\n",
    "    results[column] = {'count': non_null_count, 'percentage': percentage}\n",
    "\n",
    "# Display the results\n",
    "for column, result in results.items():\n",
    "    print(f\"{column}: {result['count']} non-null values ({result['percentage']:.2f}% of total visit_id)\")"
   ]
  },
  {
   "cell_type": "code",
   "execution_count": 72,
   "id": "fbd56068-8ac3-4857-b359-15f26011e246",
   "metadata": {
    "tags": []
   },
   "outputs": [
    {
     "name": "stdout",
     "output_type": "stream",
     "text": [
      "Number and percentage of visit_id values for each gender:\n",
      "       count  percentage\n",
      "gendr                   \n",
      "F       5550   31.076768\n",
      "M       6063   33.949269\n",
      "U       6246   34.973963\n"
     ]
    }
   ],
   "source": [
    "# test with all the steps percentage per gender\n",
    "total_visit_id = testalldf['visit_id'].count()\n",
    "\n",
    "# Group by the 'gender' column and count the number of visit_id for each gender\n",
    "gender_counts = testalldf.groupby('gendr')['visit_id'].count()\n",
    "\n",
    "# Calculate the percentage of each gender count\n",
    "gender_percentages = (gender_counts / total_visit_id) * 100\n",
    "\n",
    "# Combine the counts and percentages into a dataframe for better presentation\n",
    "results = pd.DataFrame({\n",
    "    'count': gender_counts,\n",
    "    'percentage': gender_percentages\n",
    "})\n",
    "# Display the results\n",
    "print(\"Number and percentage of visit_id values for each gender:\")\n",
    "print(results)"
   ]
  },
  {
   "cell_type": "code",
   "execution_count": 70,
   "id": "f45a3401-46a8-4d1d-ad83-92984f3d8bbe",
   "metadata": {
    "tags": []
   },
   "outputs": [
    {
     "name": "stdout",
     "output_type": "stream",
     "text": [
      "Number and percentage of visit_id values for each gender:\n",
      "       count  percentage\n",
      "gendr                   \n",
      "F       4576   30.879277\n",
      "M       5078   34.266820\n",
      "U       5165   34.853904\n"
     ]
    }
   ],
   "source": [
    "# control with all the steps percentage per gender\n",
    "total_visit_id = controlalldf['visit_id'].count()\n",
    "\n",
    "# Group by the 'gender' column and count the number of visit_id for each gender\n",
    "gender_counts = controlalldf.groupby('gendr')['visit_id'].count()\n",
    "\n",
    "# Calculate the percentage of each gender count\n",
    "gender_percentages = (gender_counts / total_visit_id) * 100\n",
    "\n",
    "# Combine the counts and percentages into a dataframe for better presentation\n",
    "results = pd.DataFrame({\n",
    "    'count': gender_counts,\n",
    "    'percentage': gender_percentages\n",
    "})\n",
    "# Display the results\n",
    "print(\"Number and percentage of visit_id values for each gender:\")\n",
    "print(results)"
   ]
  },
  {
   "cell_type": "code",
   "execution_count": null,
   "id": "c13ff555-bd6d-458e-9e04-01a5c604bc9f",
   "metadata": {},
   "outputs": [],
   "source": []
  },
  {
   "cell_type": "code",
   "execution_count": 61,
   "id": "f5013716-fe86-40fa-95ba-082f44e264b2",
   "metadata": {
    "tags": []
   },
   "outputs": [
    {
     "ename": "TypeError",
     "evalue": "'>' not supported between instances of 'str' and 'int'",
     "output_type": "error",
     "traceback": [
      "\u001b[0;31m---------------------------------------------------------------------------\u001b[0m",
      "\u001b[0;31mTypeError\u001b[0m                                 Traceback (most recent call last)",
      "Cell \u001b[0;32mIn[61], line 12\u001b[0m\n\u001b[1;32m      8\u001b[0m results \u001b[38;5;241m=\u001b[39m {}\n\u001b[1;32m     10\u001b[0m \u001b[38;5;28;01mfor\u001b[39;00m column \u001b[38;5;129;01min\u001b[39;00m columns_to_check:\n\u001b[1;32m     11\u001b[0m     \u001b[38;5;66;03m# Count the number of positive values in the column\u001b[39;00m\n\u001b[0;32m---> 12\u001b[0m     positive_count \u001b[38;5;241m=\u001b[39m controlalldf[controlalldf[column] \u001b[38;5;241m>\u001b[39m \u001b[38;5;241m0\u001b[39m][column]\u001b[38;5;241m.\u001b[39mcount()\n\u001b[1;32m     14\u001b[0m     \u001b[38;5;66;03m# Calculate the percentage of the total visit_id\u001b[39;00m\n\u001b[1;32m     15\u001b[0m     percentage \u001b[38;5;241m=\u001b[39m (positive_count \u001b[38;5;241m/\u001b[39m total_visit_id) \u001b[38;5;241m*\u001b[39m \u001b[38;5;241m100\u001b[39m\n",
      "File \u001b[0;32m/opt/anaconda3/lib/python3.11/site-packages/pandas/core/ops/common.py:76\u001b[0m, in \u001b[0;36m_unpack_zerodim_and_defer.<locals>.new_method\u001b[0;34m(self, other)\u001b[0m\n\u001b[1;32m     72\u001b[0m             \u001b[38;5;28;01mreturn\u001b[39;00m \u001b[38;5;28mNotImplemented\u001b[39m\n\u001b[1;32m     74\u001b[0m other \u001b[38;5;241m=\u001b[39m item_from_zerodim(other)\n\u001b[0;32m---> 76\u001b[0m \u001b[38;5;28;01mreturn\u001b[39;00m method(\u001b[38;5;28mself\u001b[39m, other)\n",
      "File \u001b[0;32m/opt/anaconda3/lib/python3.11/site-packages/pandas/core/arraylike.py:56\u001b[0m, in \u001b[0;36mOpsMixin.__gt__\u001b[0;34m(self, other)\u001b[0m\n\u001b[1;32m     54\u001b[0m \u001b[38;5;129m@unpack_zerodim_and_defer\u001b[39m(\u001b[38;5;124m\"\u001b[39m\u001b[38;5;124m__gt__\u001b[39m\u001b[38;5;124m\"\u001b[39m)\n\u001b[1;32m     55\u001b[0m \u001b[38;5;28;01mdef\u001b[39;00m \u001b[38;5;21m__gt__\u001b[39m(\u001b[38;5;28mself\u001b[39m, other):\n\u001b[0;32m---> 56\u001b[0m     \u001b[38;5;28;01mreturn\u001b[39;00m \u001b[38;5;28mself\u001b[39m\u001b[38;5;241m.\u001b[39m_cmp_method(other, operator\u001b[38;5;241m.\u001b[39mgt)\n",
      "File \u001b[0;32m/opt/anaconda3/lib/python3.11/site-packages/pandas/core/series.py:5803\u001b[0m, in \u001b[0;36mSeries._cmp_method\u001b[0;34m(self, other, op)\u001b[0m\n\u001b[1;32m   5800\u001b[0m lvalues \u001b[38;5;241m=\u001b[39m \u001b[38;5;28mself\u001b[39m\u001b[38;5;241m.\u001b[39m_values\n\u001b[1;32m   5801\u001b[0m rvalues \u001b[38;5;241m=\u001b[39m extract_array(other, extract_numpy\u001b[38;5;241m=\u001b[39m\u001b[38;5;28;01mTrue\u001b[39;00m, extract_range\u001b[38;5;241m=\u001b[39m\u001b[38;5;28;01mTrue\u001b[39;00m)\n\u001b[0;32m-> 5803\u001b[0m res_values \u001b[38;5;241m=\u001b[39m ops\u001b[38;5;241m.\u001b[39mcomparison_op(lvalues, rvalues, op)\n\u001b[1;32m   5805\u001b[0m \u001b[38;5;28;01mreturn\u001b[39;00m \u001b[38;5;28mself\u001b[39m\u001b[38;5;241m.\u001b[39m_construct_result(res_values, name\u001b[38;5;241m=\u001b[39mres_name)\n",
      "File \u001b[0;32m/opt/anaconda3/lib/python3.11/site-packages/pandas/core/ops/array_ops.py:346\u001b[0m, in \u001b[0;36mcomparison_op\u001b[0;34m(left, right, op)\u001b[0m\n\u001b[1;32m    343\u001b[0m     \u001b[38;5;28;01mreturn\u001b[39;00m invalid_comparison(lvalues, rvalues, op)\n\u001b[1;32m    345\u001b[0m \u001b[38;5;28;01melif\u001b[39;00m lvalues\u001b[38;5;241m.\u001b[39mdtype \u001b[38;5;241m==\u001b[39m \u001b[38;5;28mobject\u001b[39m \u001b[38;5;129;01mor\u001b[39;00m \u001b[38;5;28misinstance\u001b[39m(rvalues, \u001b[38;5;28mstr\u001b[39m):\n\u001b[0;32m--> 346\u001b[0m     res_values \u001b[38;5;241m=\u001b[39m comp_method_OBJECT_ARRAY(op, lvalues, rvalues)\n\u001b[1;32m    348\u001b[0m \u001b[38;5;28;01melse\u001b[39;00m:\n\u001b[1;32m    349\u001b[0m     res_values \u001b[38;5;241m=\u001b[39m _na_arithmetic_op(lvalues, rvalues, op, is_cmp\u001b[38;5;241m=\u001b[39m\u001b[38;5;28;01mTrue\u001b[39;00m)\n",
      "File \u001b[0;32m/opt/anaconda3/lib/python3.11/site-packages/pandas/core/ops/array_ops.py:131\u001b[0m, in \u001b[0;36mcomp_method_OBJECT_ARRAY\u001b[0;34m(op, x, y)\u001b[0m\n\u001b[1;32m    129\u001b[0m     result \u001b[38;5;241m=\u001b[39m libops\u001b[38;5;241m.\u001b[39mvec_compare(x\u001b[38;5;241m.\u001b[39mravel(), y\u001b[38;5;241m.\u001b[39mravel(), op)\n\u001b[1;32m    130\u001b[0m \u001b[38;5;28;01melse\u001b[39;00m:\n\u001b[0;32m--> 131\u001b[0m     result \u001b[38;5;241m=\u001b[39m libops\u001b[38;5;241m.\u001b[39mscalar_compare(x\u001b[38;5;241m.\u001b[39mravel(), y, op)\n\u001b[1;32m    132\u001b[0m \u001b[38;5;28;01mreturn\u001b[39;00m result\u001b[38;5;241m.\u001b[39mreshape(x\u001b[38;5;241m.\u001b[39mshape)\n",
      "File \u001b[0;32mops.pyx:107\u001b[0m, in \u001b[0;36mpandas._libs.ops.scalar_compare\u001b[0;34m()\u001b[0m\n",
      "\u001b[0;31mTypeError\u001b[0m: '>' not supported between instances of 'str' and 'int'"
     ]
    }
   ],
   "source": [
    "# Columns to check\n",
    "columns_to_check = ['start', 'step_1', 'step_2', 'step_3', 'confirm']\n",
    "\n",
    "# Total number of visit_id\n",
    "total_visit_id = controlalldf['visit_id'].count()\n",
    "\n",
    "# Create a dictionary to hold the results\n",
    "results = {}\n",
    "\n",
    "for column in columns_to_check:\n",
    "    # Count the number of positive values in the column\n",
    "    positive_count = controlalldf[controlalldf[column] > 0][column].count()\n",
    "    \n",
    "    # Calculate the percentage of the total visit_id\n",
    "    percentage = (positive_count / total_visit_id) * 100\n",
    "    \n",
    "    # Store the results in the dictionary\n",
    "    results[column] = {'count': positive_count, 'percentage': percentage}\n",
    "\n",
    "# Display the results\n",
    "for column, result in results.items():\n",
    "    print(f\"{column}: {result['count']} positive values ({result['percentage']:.2f}% of total visit_id)\")"
   ]
  },
  {
   "cell_type": "code",
   "execution_count": 54,
   "id": "1aef7c66-793c-44a7-abca-9e34053535d1",
   "metadata": {
    "tags": []
   },
   "outputs": [],
   "source": [
    "#control all df : control that have accomplished all steps\n",
    "\n",
    "# Define the columns to check for non-null values\n",
    "columns_to_check = ['start', 'step_1', 'step_2', 'step_3', 'confirm']\n",
    "\n",
    "# Create a new dataframe from df_control with non-null values in the specified columns\n",
    "controlalldf = controldf.dropna(subset=columns_to_check)\n",
    "\n",
    "# Display the dataframes\n",
    "#print(\"Original Control DataFrame:\")\n",
    "#print(controldf)\n",
    "#print(\"\\nControl DataFrame with Non-Null Values in Specified Columns:\")\n",
    "#print(controlalldf)"
   ]
  },
  {
   "cell_type": "code",
   "execution_count": 56,
   "id": "074243d8-7cfb-4b73-887e-cf594283a8c1",
   "metadata": {
    "tags": []
   },
   "outputs": [],
   "source": [
    "#test all df : test that have accomplished all steps\n",
    "\n",
    "# Define the columns to check for non-null values\n",
    "columns_to_check = ['start', 'step_1', 'step_2', 'step_3', 'confirm']\n",
    "\n",
    "# Create a new dataframe from df_control with non-null values in the specified columns\n",
    "testalldf = testdf.dropna(subset=columns_to_check)\n",
    "\n",
    "# Display the dataframes\n",
    "#print(\"Original Control DataFrame:\")\n",
    "#print(controldf)\n",
    "#print(\"\\nControl DataFrame with Non-Null Values in Specified Columns:\")\n",
    "#print(controlalldf)"
   ]
  },
  {
   "cell_type": "code",
   "execution_count": null,
   "id": "ce7191ff-93d5-4c93-b5dd-b03c56b17904",
   "metadata": {},
   "outputs": [],
   "source": [
    "# error control, pivot control, que tiene solo valores negativos entre la diferencia de tiempo por cada paso\n",
    "\n",
    "time_diff_columns = ['start_step1', 'step1_step2', 'step2_step3', 'step3_confirm', 'start_confirm']\n",
    "\n",
    "# Filter out rows with negative values in the specified columns\n",
    "errorpc_df = pc_df[(pc_df[time_diff_columns] < 0).any(axis=1)]\n",
    "\n",
    "# Display the filtered DataFrame\n",
    "display(errorpc_df)"
   ]
  }
 ],
 "metadata": {
  "kernelspec": {
   "display_name": "venv2",
   "language": "python",
   "name": "venv2"
  },
  "language_info": {
   "codemirror_mode": {
    "name": "ipython",
    "version": 3
   },
   "file_extension": ".py",
   "mimetype": "text/x-python",
   "name": "python",
   "nbconvert_exporter": "python",
   "pygments_lexer": "ipython3",
   "version": "3.11.7"
  }
 },
 "nbformat": 4,
 "nbformat_minor": 5
}
