{
 "cells": [
  {
   "cell_type": "code",
   "execution_count": 2,
   "id": "119467db-778c-43a0-ba93-9f3d888acae1",
   "metadata": {
    "tags": []
   },
   "outputs": [
    {
     "name": "stderr",
     "output_type": "stream",
     "text": [
      "/var/folders/yl/d5x0r6t10l52bms12sy70rzc0000gn/T/ipykernel_1265/1679905575.py:6: DtypeWarning: Columns (4,9) have mixed types. Specify dtype option on import or set low_memory=False.\n",
      "  df = pd.read_csv('/Users/marina/Desktop/project_2/data/raw/merged_data.csv')\n"
     ]
    }
   ],
   "source": [
    "import numpy as np\n",
    "import pandas as pd\n",
    "import matplotlib.pyplot as plt\n",
    "import os\n",
    "import seaborn as sns\n",
    "df = pd.read_csv('/Users/marina/Desktop/project_2/data/raw/merged_data.csv')"
   ]
  },
  {
   "cell_type": "code",
   "execution_count": 3,
   "id": "ad408bd3-cb94-477c-8d78-82ec6c91778d",
   "metadata": {
    "tags": []
   },
   "outputs": [
    {
     "data": {
      "text/html": [
       "<div>\n",
       "<style scoped>\n",
       "    .dataframe tbody tr th:only-of-type {\n",
       "        vertical-align: middle;\n",
       "    }\n",
       "\n",
       "    .dataframe tbody tr th {\n",
       "        vertical-align: top;\n",
       "    }\n",
       "\n",
       "    .dataframe thead th {\n",
       "        text-align: right;\n",
       "    }\n",
       "</style>\n",
       "<table border=\"1\" class=\"dataframe\">\n",
       "  <thead>\n",
       "    <tr style=\"text-align: right;\">\n",
       "      <th></th>\n",
       "      <th>client_id</th>\n",
       "      <th>clnt_tenure_yr</th>\n",
       "      <th>clnt_tenure_mnth</th>\n",
       "      <th>clnt_age</th>\n",
       "      <th>gendr</th>\n",
       "      <th>num_accts</th>\n",
       "      <th>bal</th>\n",
       "      <th>calls_6_mnth</th>\n",
       "      <th>logons_6_mnth</th>\n",
       "      <th>Variation</th>\n",
       "      <th>visitor_id</th>\n",
       "      <th>visit_id</th>\n",
       "      <th>process_step</th>\n",
       "      <th>date_time</th>\n",
       "    </tr>\n",
       "  </thead>\n",
       "  <tbody>\n",
       "    <tr>\n",
       "      <th>0</th>\n",
       "      <td>836976</td>\n",
       "      <td>6.0</td>\n",
       "      <td>73.0</td>\n",
       "      <td>60.5</td>\n",
       "      <td>U</td>\n",
       "      <td>2.0</td>\n",
       "      <td>45105.3</td>\n",
       "      <td>6.0</td>\n",
       "      <td>9.0</td>\n",
       "      <td>Test</td>\n",
       "      <td>427070339_1413275162</td>\n",
       "      <td>228976764_46825473280_96584</td>\n",
       "      <td>confirm</td>\n",
       "      <td>2017-04-02 11:51:13</td>\n",
       "    </tr>\n",
       "    <tr>\n",
       "      <th>1</th>\n",
       "      <td>836976</td>\n",
       "      <td>6.0</td>\n",
       "      <td>73.0</td>\n",
       "      <td>60.5</td>\n",
       "      <td>U</td>\n",
       "      <td>2.0</td>\n",
       "      <td>45105.3</td>\n",
       "      <td>6.0</td>\n",
       "      <td>9.0</td>\n",
       "      <td>Test</td>\n",
       "      <td>427070339_1413275162</td>\n",
       "      <td>228976764_46825473280_96584</td>\n",
       "      <td>confirm</td>\n",
       "      <td>2017-04-02 11:47:50</td>\n",
       "    </tr>\n",
       "    <tr>\n",
       "      <th>2</th>\n",
       "      <td>836976</td>\n",
       "      <td>6.0</td>\n",
       "      <td>73.0</td>\n",
       "      <td>60.5</td>\n",
       "      <td>U</td>\n",
       "      <td>2.0</td>\n",
       "      <td>45105.3</td>\n",
       "      <td>6.0</td>\n",
       "      <td>9.0</td>\n",
       "      <td>Test</td>\n",
       "      <td>427070339_1413275162</td>\n",
       "      <td>228976764_46825473280_96584</td>\n",
       "      <td>confirm</td>\n",
       "      <td>2017-04-02 11:46:45</td>\n",
       "    </tr>\n",
       "    <tr>\n",
       "      <th>3</th>\n",
       "      <td>836976</td>\n",
       "      <td>6.0</td>\n",
       "      <td>73.0</td>\n",
       "      <td>60.5</td>\n",
       "      <td>U</td>\n",
       "      <td>2.0</td>\n",
       "      <td>45105.3</td>\n",
       "      <td>6.0</td>\n",
       "      <td>9.0</td>\n",
       "      <td>Test</td>\n",
       "      <td>427070339_1413275162</td>\n",
       "      <td>228976764_46825473280_96584</td>\n",
       "      <td>step_3</td>\n",
       "      <td>2017-04-02 11:23:08</td>\n",
       "    </tr>\n",
       "    <tr>\n",
       "      <th>4</th>\n",
       "      <td>836976</td>\n",
       "      <td>6.0</td>\n",
       "      <td>73.0</td>\n",
       "      <td>60.5</td>\n",
       "      <td>U</td>\n",
       "      <td>2.0</td>\n",
       "      <td>45105.3</td>\n",
       "      <td>6.0</td>\n",
       "      <td>9.0</td>\n",
       "      <td>Test</td>\n",
       "      <td>427070339_1413275162</td>\n",
       "      <td>228976764_46825473280_96584</td>\n",
       "      <td>step_2</td>\n",
       "      <td>2017-04-02 11:22:24</td>\n",
       "    </tr>\n",
       "    <tr>\n",
       "      <th>...</th>\n",
       "      <td>...</td>\n",
       "      <td>...</td>\n",
       "      <td>...</td>\n",
       "      <td>...</td>\n",
       "      <td>...</td>\n",
       "      <td>...</td>\n",
       "      <td>...</td>\n",
       "      <td>...</td>\n",
       "      <td>...</td>\n",
       "      <td>...</td>\n",
       "      <td>...</td>\n",
       "      <td>...</td>\n",
       "      <td>...</td>\n",
       "      <td>...</td>\n",
       "    </tr>\n",
       "    <tr>\n",
       "      <th>755400</th>\n",
       "      <td>9668240</td>\n",
       "      <td>NaN</td>\n",
       "      <td>NaN</td>\n",
       "      <td>NaN</td>\n",
       "      <td>NaN</td>\n",
       "      <td>NaN</td>\n",
       "      <td>NaN</td>\n",
       "      <td>NaN</td>\n",
       "      <td>NaN</td>\n",
       "      <td>NaN</td>\n",
       "      <td>388766751_9038881013</td>\n",
       "      <td>922267647_3096648104_968866</td>\n",
       "      <td>start</td>\n",
       "      <td>2017-05-24 18:46:10</td>\n",
       "    </tr>\n",
       "    <tr>\n",
       "      <th>755401</th>\n",
       "      <td>9668240</td>\n",
       "      <td>NaN</td>\n",
       "      <td>NaN</td>\n",
       "      <td>NaN</td>\n",
       "      <td>NaN</td>\n",
       "      <td>NaN</td>\n",
       "      <td>NaN</td>\n",
       "      <td>NaN</td>\n",
       "      <td>NaN</td>\n",
       "      <td>NaN</td>\n",
       "      <td>388766751_9038881013</td>\n",
       "      <td>922267647_3096648104_968866</td>\n",
       "      <td>start</td>\n",
       "      <td>2017-05-24 18:45:29</td>\n",
       "    </tr>\n",
       "    <tr>\n",
       "      <th>755402</th>\n",
       "      <td>9668240</td>\n",
       "      <td>NaN</td>\n",
       "      <td>NaN</td>\n",
       "      <td>NaN</td>\n",
       "      <td>NaN</td>\n",
       "      <td>NaN</td>\n",
       "      <td>NaN</td>\n",
       "      <td>NaN</td>\n",
       "      <td>NaN</td>\n",
       "      <td>NaN</td>\n",
       "      <td>388766751_9038881013</td>\n",
       "      <td>922267647_3096648104_968866</td>\n",
       "      <td>step_1</td>\n",
       "      <td>2017-05-24 18:44:51</td>\n",
       "    </tr>\n",
       "    <tr>\n",
       "      <th>755403</th>\n",
       "      <td>9668240</td>\n",
       "      <td>NaN</td>\n",
       "      <td>NaN</td>\n",
       "      <td>NaN</td>\n",
       "      <td>NaN</td>\n",
       "      <td>NaN</td>\n",
       "      <td>NaN</td>\n",
       "      <td>NaN</td>\n",
       "      <td>NaN</td>\n",
       "      <td>NaN</td>\n",
       "      <td>388766751_9038881013</td>\n",
       "      <td>922267647_3096648104_968866</td>\n",
       "      <td>start</td>\n",
       "      <td>2017-05-24 18:44:34</td>\n",
       "    </tr>\n",
       "    <tr>\n",
       "      <th>755404</th>\n",
       "      <td>674799</td>\n",
       "      <td>NaN</td>\n",
       "      <td>NaN</td>\n",
       "      <td>NaN</td>\n",
       "      <td>NaN</td>\n",
       "      <td>NaN</td>\n",
       "      <td>NaN</td>\n",
       "      <td>NaN</td>\n",
       "      <td>NaN</td>\n",
       "      <td>NaN</td>\n",
       "      <td>947159805_81558194550</td>\n",
       "      <td>86152093_47511127657_716022</td>\n",
       "      <td>start</td>\n",
       "      <td>2017-06-03 12:17:09</td>\n",
       "    </tr>\n",
       "  </tbody>\n",
       "</table>\n",
       "<p>755405 rows × 14 columns</p>\n",
       "</div>"
      ],
      "text/plain": [
       "        client_id  clnt_tenure_yr  clnt_tenure_mnth  clnt_age gendr  \\\n",
       "0          836976             6.0              73.0      60.5     U   \n",
       "1          836976             6.0              73.0      60.5     U   \n",
       "2          836976             6.0              73.0      60.5     U   \n",
       "3          836976             6.0              73.0      60.5     U   \n",
       "4          836976             6.0              73.0      60.5     U   \n",
       "...           ...             ...               ...       ...   ...   \n",
       "755400    9668240             NaN               NaN       NaN   NaN   \n",
       "755401    9668240             NaN               NaN       NaN   NaN   \n",
       "755402    9668240             NaN               NaN       NaN   NaN   \n",
       "755403    9668240             NaN               NaN       NaN   NaN   \n",
       "755404     674799             NaN               NaN       NaN   NaN   \n",
       "\n",
       "        num_accts      bal  calls_6_mnth  logons_6_mnth Variation  \\\n",
       "0             2.0  45105.3           6.0            9.0      Test   \n",
       "1             2.0  45105.3           6.0            9.0      Test   \n",
       "2             2.0  45105.3           6.0            9.0      Test   \n",
       "3             2.0  45105.3           6.0            9.0      Test   \n",
       "4             2.0  45105.3           6.0            9.0      Test   \n",
       "...           ...      ...           ...            ...       ...   \n",
       "755400        NaN      NaN           NaN            NaN       NaN   \n",
       "755401        NaN      NaN           NaN            NaN       NaN   \n",
       "755402        NaN      NaN           NaN            NaN       NaN   \n",
       "755403        NaN      NaN           NaN            NaN       NaN   \n",
       "755404        NaN      NaN           NaN            NaN       NaN   \n",
       "\n",
       "                   visitor_id                     visit_id process_step  \\\n",
       "0        427070339_1413275162  228976764_46825473280_96584      confirm   \n",
       "1        427070339_1413275162  228976764_46825473280_96584      confirm   \n",
       "2        427070339_1413275162  228976764_46825473280_96584      confirm   \n",
       "3        427070339_1413275162  228976764_46825473280_96584       step_3   \n",
       "4        427070339_1413275162  228976764_46825473280_96584       step_2   \n",
       "...                       ...                          ...          ...   \n",
       "755400   388766751_9038881013  922267647_3096648104_968866        start   \n",
       "755401   388766751_9038881013  922267647_3096648104_968866        start   \n",
       "755402   388766751_9038881013  922267647_3096648104_968866       step_1   \n",
       "755403   388766751_9038881013  922267647_3096648104_968866        start   \n",
       "755404  947159805_81558194550  86152093_47511127657_716022        start   \n",
       "\n",
       "                  date_time  \n",
       "0       2017-04-02 11:51:13  \n",
       "1       2017-04-02 11:47:50  \n",
       "2       2017-04-02 11:46:45  \n",
       "3       2017-04-02 11:23:08  \n",
       "4       2017-04-02 11:22:24  \n",
       "...                     ...  \n",
       "755400  2017-05-24 18:46:10  \n",
       "755401  2017-05-24 18:45:29  \n",
       "755402  2017-05-24 18:44:51  \n",
       "755403  2017-05-24 18:44:34  \n",
       "755404  2017-06-03 12:17:09  \n",
       "\n",
       "[755405 rows x 14 columns]"
      ]
     },
     "execution_count": 3,
     "metadata": {},
     "output_type": "execute_result"
    }
   ],
   "source": [
    "df"
   ]
  },
  {
   "cell_type": "code",
   "execution_count": 7,
   "id": "b47fe9d7-3c6b-45ae-801d-8c66bc326ad5",
   "metadata": {
    "tags": []
   },
   "outputs": [
    {
     "data": {
      "text/plain": [
       "array(['Test', 'Control', nan], dtype=object)"
      ]
     },
     "execution_count": 7,
     "metadata": {},
     "output_type": "execute_result"
    }
   ],
   "source": [
    "df['Variation'].unique()\n"
   ]
  },
  {
   "cell_type": "code",
   "execution_count": 10,
   "id": "1b9551b0-557e-4140-b528-aa992310864f",
   "metadata": {
    "tags": []
   },
   "outputs": [
    {
     "name": "stdout",
     "output_type": "stream",
     "text": [
      "<class 'pandas.core.frame.DataFrame'>\n",
      "RangeIndex: 755405 entries, 0 to 755404\n",
      "Data columns (total 14 columns):\n",
      " #   Column            Non-Null Count   Dtype  \n",
      "---  ------            --------------   -----  \n",
      " 0   client_id         755405 non-null  int64  \n",
      " 1   clnt_tenure_yr    449716 non-null  float64\n",
      " 2   clnt_tenure_mnth  449716 non-null  float64\n",
      " 3   clnt_age          449704 non-null  float64\n",
      " 4   gendr             449716 non-null  object \n",
      " 5   num_accts         449716 non-null  float64\n",
      " 6   bal               449716 non-null  float64\n",
      " 7   calls_6_mnth      449716 non-null  float64\n",
      " 8   logons_6_mnth     449716 non-null  float64\n",
      " 9   Variation         321309 non-null  object \n",
      " 10  visitor_id        755405 non-null  object \n",
      " 11  visit_id          755405 non-null  object \n",
      " 12  process_step      755405 non-null  object \n",
      " 13  date_time         755405 non-null  object \n",
      "dtypes: float64(7), int64(1), object(6)\n",
      "memory usage: 80.7+ MB\n"
     ]
    }
   ],
   "source": [
    "df.info()"
   ]
  },
  {
   "cell_type": "code",
   "execution_count": 13,
   "id": "a975768d-4d5b-4ebf-b480-dea0853ee1a7",
   "metadata": {
    "tags": []
   },
   "outputs": [
    {
     "name": "stdout",
     "output_type": "stream",
     "text": [
      "        client_id  clnt_tenure_yr  clnt_tenure_mnth  clnt_age gendr  \\\n",
      "0          836976             6.0              73.0      60.5     U   \n",
      "1          836976             6.0              73.0      60.5     U   \n",
      "2          836976             6.0              73.0      60.5     U   \n",
      "3          836976             6.0              73.0      60.5     U   \n",
      "4          836976             6.0              73.0      60.5     U   \n",
      "...           ...             ...               ...       ...   ...   \n",
      "755400    9668240             NaN               NaN       NaN   NaN   \n",
      "755401    9668240             NaN               NaN       NaN   NaN   \n",
      "755402    9668240             NaN               NaN       NaN   NaN   \n",
      "755403    9668240             NaN               NaN       NaN   NaN   \n",
      "755404     674799             NaN               NaN       NaN   NaN   \n",
      "\n",
      "        num_accts      bal  calls_6_mnth  logons_6_mnth variation  \\\n",
      "0             2.0  45105.3           6.0            9.0      Test   \n",
      "1             2.0  45105.3           6.0            9.0      Test   \n",
      "2             2.0  45105.3           6.0            9.0      Test   \n",
      "3             2.0  45105.3           6.0            9.0      Test   \n",
      "4             2.0  45105.3           6.0            9.0      Test   \n",
      "...           ...      ...           ...            ...       ...   \n",
      "755400        NaN      NaN           NaN            NaN       NaN   \n",
      "755401        NaN      NaN           NaN            NaN       NaN   \n",
      "755402        NaN      NaN           NaN            NaN       NaN   \n",
      "755403        NaN      NaN           NaN            NaN       NaN   \n",
      "755404        NaN      NaN           NaN            NaN       NaN   \n",
      "\n",
      "                   visitor_id                     visit_id process_step  \\\n",
      "0        427070339_1413275162  228976764_46825473280_96584      confirm   \n",
      "1        427070339_1413275162  228976764_46825473280_96584      confirm   \n",
      "2        427070339_1413275162  228976764_46825473280_96584      confirm   \n",
      "3        427070339_1413275162  228976764_46825473280_96584       step_3   \n",
      "4        427070339_1413275162  228976764_46825473280_96584       step_2   \n",
      "...                       ...                          ...          ...   \n",
      "755400   388766751_9038881013  922267647_3096648104_968866        start   \n",
      "755401   388766751_9038881013  922267647_3096648104_968866        start   \n",
      "755402   388766751_9038881013  922267647_3096648104_968866       step_1   \n",
      "755403   388766751_9038881013  922267647_3096648104_968866        start   \n",
      "755404  947159805_81558194550  86152093_47511127657_716022        start   \n",
      "\n",
      "                  date_time  \n",
      "0       2017-04-02 11:51:13  \n",
      "1       2017-04-02 11:47:50  \n",
      "2       2017-04-02 11:46:45  \n",
      "3       2017-04-02 11:23:08  \n",
      "4       2017-04-02 11:22:24  \n",
      "...                     ...  \n",
      "755400  2017-05-24 18:46:10  \n",
      "755401  2017-05-24 18:45:29  \n",
      "755402  2017-05-24 18:44:51  \n",
      "755403  2017-05-24 18:44:34  \n",
      "755404  2017-06-03 12:17:09  \n",
      "\n",
      "[755405 rows x 14 columns]\n"
     ]
    }
   ],
   "source": [
    "df.columns = df.columns.str.strip().str.lower()\n",
    "\n",
    "# Display the DataFrame to verify changes\n",
    "print(df)"
   ]
  },
  {
   "cell_type": "code",
   "execution_count": 39,
   "id": "922bd46c-bce2-49b8-b7bb-8c92816fde65",
   "metadata": {
    "tags": []
   },
   "outputs": [
    {
     "name": "stdout",
     "output_type": "stream",
     "text": [
      "[ 6.  7.  5. 16. 12. 30. 15.  8.  4.  3. 10. 11. 13. 14. 19. 18. 25. 23.\n",
      " 21. 17.  9. 27. 24. 20. 28. 22. 29. 46. 26. 32. 33. 35.  2. 38. 31. 48.\n",
      " 34. 36. 51. nan 47. 49. 37. 39. 40. 55. 42. 44. 43. 50. 54. 41. 45. 52.\n",
      " 62.]\n",
      "[ 45105.3  110860.3   52467.79 ...  40745.   475114.69 157498.73]\n"
     ]
    }
   ],
   "source": [
    "print(df['clnt_tenure_yr'].unique())\n",
    "print(df['bal'].unique())"
   ]
  },
  {
   "cell_type": "code",
   "execution_count": 35,
   "id": "6fe02821-cf72-4ae4-8bfb-be1bb2bf0761",
   "metadata": {
    "tags": []
   },
   "outputs": [
    {
     "name": "stdout",
     "output_type": "stream",
     "text": [
      "[60.5 58.  32.  49.  33.  30.5 58.5 57.5 67.5 54.5 34.5 51.5 62.5 36.\n",
      " 74.  32.5 31.  25.5 42.5 42.  30.  55.  38.  68.5 52.5 54.  63.  48.\n",
      " 66.5 68.  65.  51.  46.  63.5 23.  26.5 56.5 76.5 27.5 39.5 25.  27.\n",
      " 60.  66.  39.  56.  40.  52.  31.5 43.5 35.  19.  64.5 64.  22.5 33.5\n",
      " 36.5 61.  40.5 72.  44.5 28.5 59.5 45.  18.  78.  50.5 29.  37.5 57.\n",
      " 70.  74.5 22.  50.  53.  62.  65.5 29.5 28.  69.5 35.5 71.5 34.  38.5\n",
      " 69.  43.  83.5 21.5 47.  61.5 73.5 71.  59.  21.  44.  83.  47.5 72.5\n",
      " 76.  78.5 55.5 67.  41.5 20.5 75.  24.  79.  26.  41.  23.5 49.5 46.5\n",
      " 45.5 48.5 24.5 75.5 80.  73.  87.  19.5 53.5 18.5 70.5 80.5 86.  37.\n",
      " 85.  17.5 82.  20.  77.5 77.  79.5 88.5 96.  81.  81.5 88.  84.   nan\n",
      " 94.5 89.  92.  82.5 91.5 85.5 95.5 84.5 90.  89.5 93.  90.5 87.5 93.5\n",
      " 86.5 91.  17.  94.  92.5 15.5 16.  16.5 14.5 15.  14.  13.5]\n",
      "[ 9.  6.  3.  5.  4.  8.  7. nan  1.  2.]\n",
      "[ 6.  3.  0.  2.  1.  5.  4. nan  7.]\n",
      "[ 6.  7.  5. 16. 12. 30. 15.  8.  4.  3. 10. 11. 13. 14. 19. 18. 25. 23.\n",
      " 21. 17.  9. 27. 24. 20. 28. 22. 29. 46. 26. 32. 33. 35.  2. 38. 31. 48.\n",
      " 34. 36. 51. nan 47. 49. 37. 39. 40. 55. 42. 44. 43. 50. 54. 41. 45. 52.\n",
      " 62.]\n",
      "[ 73.  94.  64. 198. 145.  71.  66. 361. 369. 189. 100.  99.  67. 193.\n",
      "  58.  47. 122. 136. 101. 103.  70. 152. 160.  80.  88.  86.  65.  68.\n",
      "  93.  85. 168. 142. 228. 223. 305. 286. 285. 280. 254. 253. 278. 221.\n",
      " 216. 212. 204. 260. 116. 130. 177. 159. 190.  89.  91. 129. 329.  92.\n",
      "  82. 169. 239.  69. 178.  95.  63. 187. 288. 261. 251. 250.  56.  60.\n",
      " 123. 175. 188.  59. 336. 149. 156. 330. 155. 167.  96. 242. 163.  81.\n",
      " 182. 134. 113. 172. 120. 105. 271. 244. 200. 157.  78. 151. 121. 184.\n",
      " 335. 357. 111. 185.  76. 148.  97.  83. 347. 324. 162. 194.  74. 186.\n",
      " 300. 289. 295. 282. 270. 246. 229. 206. 109. 343. 176. 144. 161. 179.\n",
      " 106. 154. 119.  75. 166. 143. 202. 326. 298. 290. 279. 252.  57. 334.\n",
      " 150.  46. 114. 174.  72. 107. 164. 131. 554. 140. 118. 292. 273. 257.\n",
      " 225. 128. 135. 258. 126. 359. 210. 263. 262. 255. 214. 310. 141. 319.\n",
      " 395. 108. 181. 173.  55. 203. 297. 213. 183. 115. 117. 299. 287. 269.\n",
      " 222. 195. 127. 245. 110. 102.  54. 277. 276. 274. 249. 147. 153.  84.\n",
      " 132. 312.  79. 146. 346. 348. 332. 170. 267. 191.  38. 205. 265. 264.\n",
      " 234. 233. 208.  53. 399. 197. 139.  61. 124. 165. 236. 219. 215. 226.\n",
      " 388. 421. 192. 306. 266. 240. 231. 180. 296.  87. 158. 227. 196. 199.\n",
      "  34. 397.  90. 349.  42. 424. 337. 207. 104. 338. 137. 201.  62. 294.\n",
      " 230. 220. 209.  49. 321. 345. 138.  33. 238. 459. 171. 355.  98. 237.\n",
      " 235. 370. 352.  48. 303. 259. 218. 322. 428. 247. 241. 341. 302. 217.\n",
      " 360. 385. 383. 576. 293. 243. 350. 340.  36. 256. 323. 354. 232. 318.\n",
      " 313.  51.  77. 430. 420. 268. 275. 317. 339.  35. 327. 407. 301. 133.\n",
      " 211. 125. 112.  43. 281.  45. 316.  40. 325. 291. 368. 384. 248. 382.\n",
      " 314. 408. 284. 283. 376. 304. 309. 356. 394. 386. 311. 419. 411. 406.\n",
      " 409. 464. 224. 333. 371. 358. 401. 320. 413. 375. 422. 272.  52. 342.\n",
      " 307. 328. 381. 434. 353. 612. 400.  50. 344. 367. 415. 364. 374. 416.\n",
      " 391. 431.  nan 423. 396. 315. 378.  44. 379. 569. 596. 393. 392.  41.\n",
      " 362. 451. 439. 331. 468. 418. 442. 389.  37. 481. 366. 351. 390. 402.\n",
      " 463.  39. 432. 403. 417. 461. 380. 482. 460. 372. 308. 373. 465. 404.\n",
      " 412. 387. 561. 669. 429. 585. 414. 365. 427. 504. 433. 444. 456. 410.\n",
      " 441. 512. 445. 539. 516. 363. 454. 589. 425. 377. 457. 443. 398. 484.\n",
      " 473. 507. 475. 449. 668. 602. 405. 446. 608. 447. 440. 453. 613. 462.\n",
      " 483. 479. 562. 485. 655. 448. 472. 564. 526. 532. 511. 492. 426. 593.\n",
      " 455. 450. 581. 550. 624. 571. 563. 469. 661. 436. 610. 586. 535. 603.\n",
      " 631. 509. 614. 466. 667. 749. 480.]\n",
      "[ 2.  5.  3.  4.  6.  7. nan  1.  8.]\n",
      "[ 45105.3  110860.3   52467.79 ...  40745.   475114.69 157498.73]\n",
      "['U' 'M' 'F' nan 'X']\n",
      "[ 836976 2304905 1439522 ... 9878184 9668240  674799]\n"
     ]
    }
   ],
   "source": [
    "print(df['clnt_age'].unique())\n",
    "print(df['logons_6_mnth'].unique())\n",
    "print(df['calls_6_mnth'].unique())\n",
    "print(df['clnt_tenure_yr'].unique())\n",
    "print(df['clnt_tenure_mnth'].unique())\n",
    "print(df['num_accts'].unique())\n",
    "print(df['bal'].unique())\n",
    "print(df['gendr'].unique())\n",
    "print(df['client_id'].unique())"
   ]
  },
  {
   "cell_type": "markdown",
   "id": "92c75df9-5812-4939-a519-022f8a74190a",
   "metadata": {},
   "source": [
    "# col. to convert to int"
   ]
  },
  {
   "cell_type": "code",
   "execution_count": 26,
   "id": "22d35f85-c2ab-4e9d-8460-c8145760a243",
   "metadata": {
    "tags": []
   },
   "outputs": [
    {
     "name": "stdout",
     "output_type": "stream",
     "text": [
      "Control DataFrame:\n",
      "        client_id  clnt_tenure_yr  clnt_tenure_mnth  clnt_age gendr  \\\n",
      "11        2304905             7.0              94.0      58.0     U   \n",
      "12        2304905             7.0              94.0      58.0     U   \n",
      "13        2304905             7.0              94.0      58.0     U   \n",
      "14        2304905             7.0              94.0      58.0     U   \n",
      "15        2304905             7.0              94.0      58.0     U   \n",
      "...           ...             ...               ...       ...   ...   \n",
      "321283    6967120            21.0             260.0      68.5     M   \n",
      "321284    6967120            21.0             260.0      68.5     M   \n",
      "321285    6967120            21.0             260.0      68.5     M   \n",
      "321286    6967120            21.0             260.0      68.5     M   \n",
      "321287    6967120            21.0             260.0      68.5     M   \n",
      "\n",
      "        num_accts         bal  calls_6_mnth  logons_6_mnth Variation  \\\n",
      "11            2.0   110860.30           6.0            9.0   Control   \n",
      "12            2.0   110860.30           6.0            9.0   Control   \n",
      "13            2.0   110860.30           6.0            9.0   Control   \n",
      "14            2.0   110860.30           6.0            9.0   Control   \n",
      "15            2.0   110860.30           6.0            9.0   Control   \n",
      "...           ...         ...           ...            ...       ...   \n",
      "321283        3.0  4279873.38           6.0            9.0   Control   \n",
      "321284        3.0  4279873.38           6.0            9.0   Control   \n",
      "321285        3.0  4279873.38           6.0            9.0   Control   \n",
      "321286        3.0  4279873.38           6.0            9.0   Control   \n",
      "321287        3.0  4279873.38           6.0            9.0   Control   \n",
      "\n",
      "                   visitor_id                      visit_id process_step  \\\n",
      "11      336210275_56978226960  724930510_65323235593_692754      confirm   \n",
      "12      336210275_56978226960  724930510_65323235593_692754       step_3   \n",
      "13      336210275_56978226960  724930510_65323235593_692754       step_2   \n",
      "14      336210275_56978226960  724930510_65323235593_692754       step_1   \n",
      "15      336210275_56978226960  724930510_65323235593_692754        start   \n",
      "...                       ...                           ...          ...   \n",
      "321283  663474827_38847225720  923772865_74694577233_449836      confirm   \n",
      "321284  663474827_38847225720  923772865_74694577233_449836       step_3   \n",
      "321285  663474827_38847225720  923772865_74694577233_449836       step_2   \n",
      "321286  663474827_38847225720  923772865_74694577233_449836       step_1   \n",
      "321287  663474827_38847225720  923772865_74694577233_449836        start   \n",
      "\n",
      "                  date_time  \n",
      "11      2017-05-21 11:07:16  \n",
      "12      2017-05-21 11:04:53  \n",
      "13      2017-05-21 11:04:04  \n",
      "14      2017-05-21 11:03:31  \n",
      "15      2017-05-21 11:03:25  \n",
      "...                     ...  \n",
      "321283  2017-04-12 19:06:55  \n",
      "321284  2017-04-12 19:05:14  \n",
      "321285  2017-04-12 19:04:29  \n",
      "321286  2017-04-12 19:04:07  \n",
      "321287  2017-04-12 19:03:36  \n",
      "\n",
      "[143462 rows x 14 columns]\n",
      "\n",
      "Test DataFrame:\n",
      "        client_id  clnt_tenure_yr  clnt_tenure_mnth  clnt_age gendr  \\\n",
      "0          836976             6.0              73.0      60.5     U   \n",
      "1          836976             6.0              73.0      60.5     U   \n",
      "2          836976             6.0              73.0      60.5     U   \n",
      "3          836976             6.0              73.0      60.5     U   \n",
      "4          836976             6.0              73.0      60.5     U   \n",
      "...           ...             ...               ...       ...   ...   \n",
      "321304    7468138            18.0             222.0      61.0     F   \n",
      "321305    7468138            18.0             222.0      61.0     F   \n",
      "321306    7468138            18.0             222.0      61.0     F   \n",
      "321307    7468138            18.0             222.0      61.0     F   \n",
      "321308    7468138            18.0             222.0      61.0     F   \n",
      "\n",
      "        num_accts        bal  calls_6_mnth  logons_6_mnth Variation  \\\n",
      "0             2.0   45105.30           6.0            9.0      Test   \n",
      "1             2.0   45105.30           6.0            9.0      Test   \n",
      "2             2.0   45105.30           6.0            9.0      Test   \n",
      "3             2.0   45105.30           6.0            9.0      Test   \n",
      "4             2.0   45105.30           6.0            9.0      Test   \n",
      "...           ...        ...           ...            ...       ...   \n",
      "321304        3.0  209278.15           0.0            3.0      Test   \n",
      "321305        3.0  209278.15           0.0            3.0      Test   \n",
      "321306        3.0  209278.15           0.0            3.0      Test   \n",
      "321307        3.0  209278.15           0.0            3.0      Test   \n",
      "321308        3.0  209278.15           0.0            3.0      Test   \n",
      "\n",
      "                   visitor_id                      visit_id process_step  \\\n",
      "0        427070339_1413275162   228976764_46825473280_96584      confirm   \n",
      "1        427070339_1413275162   228976764_46825473280_96584      confirm   \n",
      "2        427070339_1413275162   228976764_46825473280_96584      confirm   \n",
      "3        427070339_1413275162   228976764_46825473280_96584       step_3   \n",
      "4        427070339_1413275162   228976764_46825473280_96584       step_2   \n",
      "...                       ...                           ...          ...   \n",
      "321304  317123960_46820919455  769876461_30381166055_830233       step_2   \n",
      "321305  317123960_46820919455  769876461_30381166055_830233       step_1   \n",
      "321306  317123960_46820919455  769876461_30381166055_830233        start   \n",
      "321307  317123960_46820919455  769876461_30381166055_830233        start   \n",
      "321308  317123960_46820919455  769876461_30381166055_830233        start   \n",
      "\n",
      "                  date_time  \n",
      "0       2017-04-02 11:51:13  \n",
      "1       2017-04-02 11:47:50  \n",
      "2       2017-04-02 11:46:45  \n",
      "3       2017-04-02 11:23:08  \n",
      "4       2017-04-02 11:22:24  \n",
      "...                     ...  \n",
      "321304  2017-03-30 23:59:15  \n",
      "321305  2017-03-30 23:58:51  \n",
      "321306  2017-03-30 23:58:40  \n",
      "321307  2017-03-30 23:55:11  \n",
      "321308  2017-03-31 00:16:12  \n",
      "\n",
      "[177847 rows x 14 columns]\n",
      "\n",
      "Other DataFrame:\n",
      "        client_id  clnt_tenure_yr  clnt_tenure_mnth  clnt_age gendr  \\\n",
      "321309     414870             6.0              80.0      57.0     U   \n",
      "321310     414870             6.0              80.0      57.0     U   \n",
      "321311     414870             6.0              80.0      57.0     U   \n",
      "321312     414870             6.0              80.0      57.0     U   \n",
      "321313     414870             6.0              80.0      57.0     U   \n",
      "...           ...             ...               ...       ...   ...   \n",
      "755400    9668240             NaN               NaN       NaN   NaN   \n",
      "755401    9668240             NaN               NaN       NaN   NaN   \n",
      "755402    9668240             NaN               NaN       NaN   NaN   \n",
      "755403    9668240             NaN               NaN       NaN   NaN   \n",
      "755404     674799             NaN               NaN       NaN   NaN   \n",
      "\n",
      "        num_accts        bal  calls_6_mnth  logons_6_mnth Variation  \\\n",
      "321309        2.0  492304.33           5.0            5.0       NaN   \n",
      "321310        2.0  492304.33           5.0            5.0       NaN   \n",
      "321311        2.0  492304.33           5.0            5.0       NaN   \n",
      "321312        2.0  492304.33           5.0            5.0       NaN   \n",
      "321313        2.0  492304.33           5.0            5.0       NaN   \n",
      "...           ...        ...           ...            ...       ...   \n",
      "755400        NaN        NaN           NaN            NaN       NaN   \n",
      "755401        NaN        NaN           NaN            NaN       NaN   \n",
      "755402        NaN        NaN           NaN            NaN       NaN   \n",
      "755403        NaN        NaN           NaN            NaN       NaN   \n",
      "755404        NaN        NaN           NaN            NaN       NaN   \n",
      "\n",
      "                   visitor_id                      visit_id process_step  \\\n",
      "321309  511408781_17318872574  160737585_61456249617_969953       step_3   \n",
      "321310  511408781_17318872574  160737585_61456249617_969953       step_2   \n",
      "321311  511408781_17318872574  160737585_61456249617_969953       step_1   \n",
      "321312  511408781_17318872574  160737585_61456249617_969953        start   \n",
      "321313  511408781_17318872574  319031767_80558597288_600001        start   \n",
      "...                       ...                           ...          ...   \n",
      "755400   388766751_9038881013   922267647_3096648104_968866        start   \n",
      "755401   388766751_9038881013   922267647_3096648104_968866        start   \n",
      "755402   388766751_9038881013   922267647_3096648104_968866       step_1   \n",
      "755403   388766751_9038881013   922267647_3096648104_968866        start   \n",
      "755404  947159805_81558194550   86152093_47511127657_716022        start   \n",
      "\n",
      "                  date_time  \n",
      "321309  2017-04-12 13:07:02  \n",
      "321310  2017-04-12 13:06:17  \n",
      "321311  2017-04-12 13:04:14  \n",
      "321312  2017-04-12 13:03:18  \n",
      "321313  2017-05-13 13:18:51  \n",
      "...                     ...  \n",
      "755400  2017-05-24 18:46:10  \n",
      "755401  2017-05-24 18:45:29  \n",
      "755402  2017-05-24 18:44:51  \n",
      "755403  2017-05-24 18:44:34  \n",
      "755404  2017-06-03 12:17:09  \n",
      "\n",
      "[434096 rows x 14 columns]\n"
     ]
    }
   ],
   "source": [
    "control_df = df[df['Variation'] == 'Control']\n",
    "test_df = df[df['Variation'] == 'Test']\n",
    "other_df = df[~df['Variation'].isin(['Control', 'Test'])]\n",
    "\n",
    "# Display the DataFrames\n",
    "print(\"Control DataFrame:\")\n",
    "print(control_df)\n",
    "print(\"\\nTest DataFrame:\")\n",
    "print(test_df)\n",
    "print(\"\\nOther DataFrame:\")\n",
    "print(other_df)"
   ]
  },
  {
   "cell_type": "markdown",
   "id": "41f1b6dd-3b35-42a3-aae2-4b86f70a9910",
   "metadata": {},
   "source": [
    "# control df"
   ]
  },
  {
   "cell_type": "code",
   "execution_count": 28,
   "id": "7395616e-40cd-431f-8e02-8912df06a3da",
   "metadata": {
    "tags": []
   },
   "outputs": [
    {
     "name": "stdout",
     "output_type": "stream",
     "text": [
      "<class 'pandas.core.frame.DataFrame'>\n",
      "Index: 143462 entries, 11 to 321287\n",
      "Data columns (total 14 columns):\n",
      " #   Column            Non-Null Count   Dtype  \n",
      "---  ------            --------------   -----  \n",
      " 0   client_id         143462 non-null  int64  \n",
      " 1   clnt_tenure_yr    143420 non-null  float64\n",
      " 2   clnt_tenure_mnth  143420 non-null  float64\n",
      " 3   clnt_age          143408 non-null  float64\n",
      " 4   gendr             143420 non-null  object \n",
      " 5   num_accts         143420 non-null  float64\n",
      " 6   bal               143420 non-null  float64\n",
      " 7   calls_6_mnth      143420 non-null  float64\n",
      " 8   logons_6_mnth     143420 non-null  float64\n",
      " 9   Variation         143462 non-null  object \n",
      " 10  visitor_id        143462 non-null  object \n",
      " 11  visit_id          143462 non-null  object \n",
      " 12  process_step      143462 non-null  object \n",
      " 13  date_time         143462 non-null  object \n",
      "dtypes: float64(7), int64(1), object(6)\n",
      "memory usage: 16.4+ MB\n"
     ]
    }
   ],
   "source": [
    "control_df.info()"
   ]
  },
  {
   "cell_type": "code",
   "execution_count": 57,
   "id": "778a4c2e-a33b-4a13-8b2d-bd0298b808f2",
   "metadata": {
    "tags": []
   },
   "outputs": [
    {
     "name": "stdout",
     "output_type": "stream",
     "text": [
      "Number of null values in each column before dropping:\n",
      "clnt_tenure_yr      42\n",
      "gendr               42\n",
      "clnt_tenure_mnth    42\n",
      "num_accts           42\n",
      "bal                 42\n",
      "calls_6_mnth        42\n",
      "clnt_age            54\n",
      "logons_6_mnth       42\n",
      "dtype: int64\n"
     ]
    }
   ],
   "source": [
    "# List of columns to check for null values\n",
    "columns_to_check = ['clnt_tenure_yr', 'gendr', 'clnt_tenure_mnth', 'num_accts', 'bal', 'calls_6_mnth','clnt_age','logons_6_mnth']\n",
    "\n",
    "# Display the number of null values in each column before dropping\n",
    "null_counts = control_df[columns_to_check].isnull().sum()\n",
    "print(\"Number of null values in each column before dropping:\")\n",
    "print(null_counts)\n",
    "control_df1=control_df.copy()"
   ]
  },
  {
   "cell_type": "code",
   "execution_count": 61,
   "id": "97c6a219-cb7f-4b8d-a442-d6abbf84b6cb",
   "metadata": {
    "tags": []
   },
   "outputs": [
    {
     "name": "stdout",
     "output_type": "stream",
     "text": [
      "\n",
      "Total number of rows dropped: 611997\n",
      "\n",
      "Cleaned DataFrame:\n",
      "        client_id  clnt_tenure_yr  clnt_tenure_mnth  clnt_age gendr  \\\n",
      "11        2304905             7.0              94.0      58.0     U   \n",
      "12        2304905             7.0              94.0      58.0     U   \n",
      "13        2304905             7.0              94.0      58.0     U   \n",
      "14        2304905             7.0              94.0      58.0     U   \n",
      "15        2304905             7.0              94.0      58.0     U   \n",
      "...           ...             ...               ...       ...   ...   \n",
      "321283    6967120            21.0             260.0      68.5     M   \n",
      "321284    6967120            21.0             260.0      68.5     M   \n",
      "321285    6967120            21.0             260.0      68.5     M   \n",
      "321286    6967120            21.0             260.0      68.5     M   \n",
      "321287    6967120            21.0             260.0      68.5     M   \n",
      "\n",
      "        num_accts         bal  calls_6_mnth  logons_6_mnth Variation  \\\n",
      "11            2.0   110860.30           6.0            9.0   Control   \n",
      "12            2.0   110860.30           6.0            9.0   Control   \n",
      "13            2.0   110860.30           6.0            9.0   Control   \n",
      "14            2.0   110860.30           6.0            9.0   Control   \n",
      "15            2.0   110860.30           6.0            9.0   Control   \n",
      "...           ...         ...           ...            ...       ...   \n",
      "321283        3.0  4279873.38           6.0            9.0   Control   \n",
      "321284        3.0  4279873.38           6.0            9.0   Control   \n",
      "321285        3.0  4279873.38           6.0            9.0   Control   \n",
      "321286        3.0  4279873.38           6.0            9.0   Control   \n",
      "321287        3.0  4279873.38           6.0            9.0   Control   \n",
      "\n",
      "                   visitor_id                      visit_id process_step  \\\n",
      "11      336210275_56978226960  724930510_65323235593_692754      confirm   \n",
      "12      336210275_56978226960  724930510_65323235593_692754       step_3   \n",
      "13      336210275_56978226960  724930510_65323235593_692754       step_2   \n",
      "14      336210275_56978226960  724930510_65323235593_692754       step_1   \n",
      "15      336210275_56978226960  724930510_65323235593_692754        start   \n",
      "...                       ...                           ...          ...   \n",
      "321283  663474827_38847225720  923772865_74694577233_449836      confirm   \n",
      "321284  663474827_38847225720  923772865_74694577233_449836       step_3   \n",
      "321285  663474827_38847225720  923772865_74694577233_449836       step_2   \n",
      "321286  663474827_38847225720  923772865_74694577233_449836       step_1   \n",
      "321287  663474827_38847225720  923772865_74694577233_449836        start   \n",
      "\n",
      "                  date_time  \n",
      "11      2017-05-21 11:07:16  \n",
      "12      2017-05-21 11:04:53  \n",
      "13      2017-05-21 11:04:04  \n",
      "14      2017-05-21 11:03:31  \n",
      "15      2017-05-21 11:03:25  \n",
      "...                     ...  \n",
      "321283  2017-04-12 19:06:55  \n",
      "321284  2017-04-12 19:05:14  \n",
      "321285  2017-04-12 19:04:29  \n",
      "321286  2017-04-12 19:04:07  \n",
      "321287  2017-04-12 19:03:36  \n",
      "\n",
      "[143408 rows x 14 columns]\n"
     ]
    }
   ],
   "source": [
    "# Drop rows with null values in the specified columns\n",
    "control_df1 = control_df1.dropna(subset=columns_to_check)\n",
    "\n",
    "# Display the number of rows dropped\n",
    "rows_dropped = len(df) - len(control_df1)\n",
    "print(\"\\nTotal number of rows dropped:\", rows_dropped)\n",
    "\n",
    "# Display the cleaned DataFrame\n",
    "print(\"\\nCleaned DataFrame:\")\n",
    "print(control_df1)\n",
    "\n",
    "control_count = len(control_df1)"
   ]
  },
  {
   "cell_type": "code",
   "execution_count": 63,
   "id": "53c09262-2536-44b0-b011-403133a3117b",
   "metadata": {
    "tags": []
   },
   "outputs": [
    {
     "name": "stdout",
     "output_type": "stream",
     "text": [
      "<class 'pandas.core.frame.DataFrame'>\n",
      "Index: 143408 entries, 11 to 321287\n",
      "Data columns (total 14 columns):\n",
      " #   Column            Non-Null Count   Dtype  \n",
      "---  ------            --------------   -----  \n",
      " 0   client_id         143408 non-null  int64  \n",
      " 1   clnt_tenure_yr    143408 non-null  float64\n",
      " 2   clnt_tenure_mnth  143408 non-null  float64\n",
      " 3   clnt_age          143408 non-null  float64\n",
      " 4   gendr             143408 non-null  object \n",
      " 5   num_accts         143408 non-null  float64\n",
      " 6   bal               143408 non-null  float64\n",
      " 7   calls_6_mnth      143408 non-null  float64\n",
      " 8   logons_6_mnth     143408 non-null  float64\n",
      " 9   Variation         143408 non-null  object \n",
      " 10  visitor_id        143408 non-null  object \n",
      " 11  visit_id          143408 non-null  object \n",
      " 12  process_step      143408 non-null  object \n",
      " 13  date_time         143408 non-null  object \n",
      "dtypes: float64(7), int64(1), object(6)\n",
      "memory usage: 16.4+ MB\n"
     ]
    }
   ],
   "source": [
    "control_df1.info()"
   ]
  },
  {
   "cell_type": "code",
   "execution_count": 67,
   "id": "de595c28-c958-41b1-80e3-9cfb633dcefd",
   "metadata": {
    "tags": []
   },
   "outputs": [
    {
     "name": "stdout",
     "output_type": "stream",
     "text": [
      "<class 'pandas.core.frame.DataFrame'>\n",
      "Index: 143408 entries, 11 to 321287\n",
      "Data columns (total 14 columns):\n",
      " #   Column            Non-Null Count   Dtype  \n",
      "---  ------            --------------   -----  \n",
      " 0   client_id         143408 non-null  int64  \n",
      " 1   clnt_tenure_yr    143408 non-null  int64  \n",
      " 2   clnt_tenure_mnth  143408 non-null  int64  \n",
      " 3   clnt_age          143408 non-null  int64  \n",
      " 4   gendr             143408 non-null  object \n",
      " 5   num_accts         143408 non-null  int64  \n",
      " 6   bal               143408 non-null  float64\n",
      " 7   calls_6_mnth      143408 non-null  int64  \n",
      " 8   logons_6_mnth     143408 non-null  int64  \n",
      " 9   Variation         143408 non-null  object \n",
      " 10  visitor_id        143408 non-null  object \n",
      " 11  visit_id          143408 non-null  object \n",
      " 12  process_step      143408 non-null  object \n",
      " 13  date_time         143408 non-null  object \n",
      "dtypes: float64(1), int64(7), object(6)\n",
      "memory usage: 16.4+ MB\n",
      "None\n"
     ]
    }
   ],
   "source": [
    "#convert following columns in int\n",
    "\n",
    "# List of columns to be converted to int control_df\n",
    "cols_to_convert = ['clnt_age', 'logons_6_mnth','calls_6_mnth', 'clnt_tenure_yr','clnt_tenure_mnth', 'num_accts']\n",
    "\n",
    "# Convert specified columns to int\n",
    "control_df1[cols_to_convert] = control_df1[cols_to_convert].astype(int)\n",
    "\n",
    "# Display the DataFrame to verify changes\n",
    "print(control_df1.info())"
   ]
  },
  {
   "cell_type": "code",
   "execution_count": 71,
   "id": "8aa9dc33-13bf-4348-9ea6-948fd2c1cdd3",
   "metadata": {
    "tags": []
   },
   "outputs": [
    {
     "data": {
      "text/plain": [
       "array(['U', 'F', 'M'], dtype=object)"
      ]
     },
     "execution_count": 71,
     "metadata": {},
     "output_type": "execute_result"
    }
   ],
   "source": [
    "# clean column gender\n",
    "control_df1['gendr'].unique()"
   ]
  },
  {
   "cell_type": "code",
   "execution_count": 85,
   "id": "37610347-de8a-43c9-a272-257aeb486498",
   "metadata": {
    "tags": []
   },
   "outputs": [
    {
     "name": "stdout",
     "output_type": "stream",
     "text": [
      "Not all values in the datetime column match the expected format: YYYY-MM-DD HH:MM:SS\n"
     ]
    }
   ],
   "source": [
    "control_df2 = control_df1\n",
    "expected_format = 'YYYY-MM-DD HH:MM:SS'\n",
    "\n",
    "# Check if all values match the expected format\n",
    "all_match_expected_format = all(value == expected_format for value in control_df2['date_time'])\n",
    "\n",
    "# Print the result\n",
    "if all_match_expected_format:\n",
    "    print(\"All values in the datetime column match the expected format:\", expected_format)\n",
    "else:\n",
    "    print(\"Not all values in the datetime column match the expected format:\", expected_format)"
   ]
  },
  {
   "cell_type": "code",
   "execution_count": 99,
   "id": "4be6b324-d4c1-4637-a0e8-2de7c87982e4",
   "metadata": {
    "tags": []
   },
   "outputs": [
    {
     "name": "stdout",
     "output_type": "stream",
     "text": [
      "        client_id  clnt_tenure_yr  clnt_tenure_mnth  clnt_age gendr  \\\n",
      "0          836976             6.0              73.0      60.5     U   \n",
      "1          836976             6.0              73.0      60.5     U   \n",
      "2          836976             6.0              73.0      60.5     U   \n",
      "3          836976             6.0              73.0      60.5     U   \n",
      "4          836976             6.0              73.0      60.5     U   \n",
      "...           ...             ...               ...       ...   ...   \n",
      "755400    9668240             NaN               NaN       NaN   NaN   \n",
      "755401    9668240             NaN               NaN       NaN   NaN   \n",
      "755402    9668240             NaN               NaN       NaN   NaN   \n",
      "755403    9668240             NaN               NaN       NaN   NaN   \n",
      "755404     674799             NaN               NaN       NaN   NaN   \n",
      "\n",
      "        num_accts      bal  calls_6_mnth  logons_6_mnth Variation  \\\n",
      "0             2.0  45105.3           6.0            9.0      Test   \n",
      "1             2.0  45105.3           6.0            9.0      Test   \n",
      "2             2.0  45105.3           6.0            9.0      Test   \n",
      "3             2.0  45105.3           6.0            9.0      Test   \n",
      "4             2.0  45105.3           6.0            9.0      Test   \n",
      "...           ...      ...           ...            ...       ...   \n",
      "755400        NaN      NaN           NaN            NaN       NaN   \n",
      "755401        NaN      NaN           NaN            NaN       NaN   \n",
      "755402        NaN      NaN           NaN            NaN       NaN   \n",
      "755403        NaN      NaN           NaN            NaN       NaN   \n",
      "755404        NaN      NaN           NaN            NaN       NaN   \n",
      "\n",
      "                   visitor_id                     visit_id process_step  \\\n",
      "0        427070339_1413275162  228976764_46825473280_96584      confirm   \n",
      "1        427070339_1413275162  228976764_46825473280_96584      confirm   \n",
      "2        427070339_1413275162  228976764_46825473280_96584      confirm   \n",
      "3        427070339_1413275162  228976764_46825473280_96584       step_3   \n",
      "4        427070339_1413275162  228976764_46825473280_96584       step_2   \n",
      "...                       ...                          ...          ...   \n",
      "755400   388766751_9038881013  922267647_3096648104_968866        start   \n",
      "755401   388766751_9038881013  922267647_3096648104_968866        start   \n",
      "755402   388766751_9038881013  922267647_3096648104_968866       step_1   \n",
      "755403   388766751_9038881013  922267647_3096648104_968866        start   \n",
      "755404  947159805_81558194550  86152093_47511127657_716022        start   \n",
      "\n",
      "                  date_time  \n",
      "0       2017-04-02 11:51:13  \n",
      "1       2017-04-02 11:47:50  \n",
      "2       2017-04-02 11:46:45  \n",
      "3       2017-04-02 11:23:08  \n",
      "4       2017-04-02 11:22:24  \n",
      "...                     ...  \n",
      "755400  2017-05-24 18:46:10  \n",
      "755401  2017-05-24 18:45:29  \n",
      "755402  2017-05-24 18:44:51  \n",
      "755403  2017-05-24 18:44:34  \n",
      "755404  2017-06-03 12:17:09  \n",
      "\n",
      "[755405 rows x 14 columns]\n"
     ]
    }
   ],
   "source": [
    "\n",
    "control_df2['date_time'] = pd.to_datetime(control_df2['date_time'], format='%Y-%m-%d %H:%M:%S')\n",
    "\n",
    "# Print the DataFrame to verify the conversion\n",
    "print(df)\n"
   ]
  },
  {
   "cell_type": "code",
   "execution_count": 101,
   "id": "a1e76608-a283-4dfd-beab-ac38b5b89585",
   "metadata": {
    "tags": []
   },
   "outputs": [
    {
     "name": "stdout",
     "output_type": "stream",
     "text": [
      "Not all values in the datetime column match the expected format: %Y-%m-%d %H:%M:%S\n"
     ]
    }
   ],
   "source": [
    "expected_format = '%Y-%m-%d %H:%M:%S'\n",
    "\n",
    "# Check if all values match the expected format\n",
    "all_match_expected_format = all(value == expected_format for value in control_df2['date_time'])\n",
    "\n",
    "# Print the result\n",
    "if all_match_expected_format:\n",
    "    print(\"All values in the datetime column match the expected format:\", expected_format)\n",
    "else:\n",
    "    print(\"Not all values in the datetime column match the expected format:\", expected_format)"
   ]
  },
  {
   "cell_type": "code",
   "execution_count": 117,
   "id": "0d16c62e-b4d3-4de7-9400-a430fb60d614",
   "metadata": {
    "tags": []
   },
   "outputs": [
    {
     "name": "stdout",
     "output_type": "stream",
     "text": [
      "Oldest Date: 2017-03-15 00:19:28\n",
      "Most Recent Date: 2017-06-20 23:57:06\n"
     ]
    }
   ],
   "source": [
    "\n",
    "# Find the oldest and most recent dates\n",
    "oldest_date = control_df2['date_time'].min()\n",
    "most_recent_date = control_df2['date_time'].max()\n",
    "\n",
    "# Print the oldest and most recent dates\n",
    "print(\"Oldest Date:\", oldest_date)\n",
    "print(\"Most Recent Date:\", most_recent_date)"
   ]
  },
  {
   "cell_type": "markdown",
   "id": "24d200ee-8248-4772-9e19-411af3a4e211",
   "metadata": {},
   "source": [
    "# test_df"
   ]
  },
  {
   "cell_type": "code",
   "execution_count": null,
   "id": "612dfdca-3a0b-46b2-969f-03fce0191727",
   "metadata": {},
   "outputs": [],
   "source": []
  },
  {
   "cell_type": "code",
   "execution_count": 30,
   "id": "89dae6f0-1393-42ef-ac0e-7a0e91f40f3b",
   "metadata": {
    "tags": []
   },
   "outputs": [
    {
     "name": "stdout",
     "output_type": "stream",
     "text": [
      "<class 'pandas.core.frame.DataFrame'>\n",
      "Index: 177847 entries, 0 to 321308\n",
      "Data columns (total 14 columns):\n",
      " #   Column            Non-Null Count   Dtype  \n",
      "---  ------            --------------   -----  \n",
      " 0   client_id         177847 non-null  int64  \n",
      " 1   clnt_tenure_yr    177787 non-null  float64\n",
      " 2   clnt_tenure_mnth  177787 non-null  float64\n",
      " 3   clnt_age          177787 non-null  float64\n",
      " 4   gendr             177787 non-null  object \n",
      " 5   num_accts         177787 non-null  float64\n",
      " 6   bal               177787 non-null  float64\n",
      " 7   calls_6_mnth      177787 non-null  float64\n",
      " 8   logons_6_mnth     177787 non-null  float64\n",
      " 9   Variation         177847 non-null  object \n",
      " 10  visitor_id        177847 non-null  object \n",
      " 11  visit_id          177847 non-null  object \n",
      " 12  process_step      177847 non-null  object \n",
      " 13  date_time         177847 non-null  object \n",
      "dtypes: float64(7), int64(1), object(6)\n",
      "memory usage: 20.4+ MB\n"
     ]
    }
   ],
   "source": [
    "test_df.info()"
   ]
  },
  {
   "cell_type": "code",
   "execution_count": 105,
   "id": "f95c9de8-ae7d-416d-8527-8799b996f1ef",
   "metadata": {
    "tags": []
   },
   "outputs": [
    {
     "name": "stdout",
     "output_type": "stream",
     "text": [
      "Number of null values in each column before dropping:\n",
      "clnt_tenure_yr      60\n",
      "gendr               60\n",
      "clnt_tenure_mnth    60\n",
      "num_accts           60\n",
      "bal                 60\n",
      "calls_6_mnth        60\n",
      "clnt_age            60\n",
      "logons_6_mnth       60\n",
      "dtype: int64\n"
     ]
    }
   ],
   "source": [
    "# List of columns to check for null values\n",
    "columns_to_check = ['clnt_tenure_yr', 'gendr', 'clnt_tenure_mnth', 'num_accts', 'bal', 'calls_6_mnth','clnt_age','logons_6_mnth']\n",
    "\n",
    "# Display the number of null values in each column before dropping\n",
    "null_counts = test_df[columns_to_check].isnull().sum()\n",
    "print(\"Number of null values in each column before dropping:\")\n",
    "print(null_counts)\n",
    "test_df1=test_df.copy()"
   ]
  },
  {
   "cell_type": "code",
   "execution_count": 111,
   "id": "61c79ed8-a07a-4ab8-9bb9-91bd243b2e26",
   "metadata": {
    "tags": []
   },
   "outputs": [
    {
     "name": "stdout",
     "output_type": "stream",
     "text": [
      "\n",
      "Total number of rows dropped: 577618\n",
      "\n",
      "Cleaned DataFrame:\n",
      "        client_id  clnt_tenure_yr  clnt_tenure_mnth  clnt_age gendr  \\\n",
      "0          836976             6.0              73.0      60.5     U   \n",
      "1          836976             6.0              73.0      60.5     U   \n",
      "2          836976             6.0              73.0      60.5     U   \n",
      "3          836976             6.0              73.0      60.5     U   \n",
      "4          836976             6.0              73.0      60.5     U   \n",
      "...           ...             ...               ...       ...   ...   \n",
      "321304    7468138            18.0             222.0      61.0     F   \n",
      "321305    7468138            18.0             222.0      61.0     F   \n",
      "321306    7468138            18.0             222.0      61.0     F   \n",
      "321307    7468138            18.0             222.0      61.0     F   \n",
      "321308    7468138            18.0             222.0      61.0     F   \n",
      "\n",
      "        num_accts        bal  calls_6_mnth  logons_6_mnth Variation  \\\n",
      "0             2.0   45105.30           6.0            9.0      Test   \n",
      "1             2.0   45105.30           6.0            9.0      Test   \n",
      "2             2.0   45105.30           6.0            9.0      Test   \n",
      "3             2.0   45105.30           6.0            9.0      Test   \n",
      "4             2.0   45105.30           6.0            9.0      Test   \n",
      "...           ...        ...           ...            ...       ...   \n",
      "321304        3.0  209278.15           0.0            3.0      Test   \n",
      "321305        3.0  209278.15           0.0            3.0      Test   \n",
      "321306        3.0  209278.15           0.0            3.0      Test   \n",
      "321307        3.0  209278.15           0.0            3.0      Test   \n",
      "321308        3.0  209278.15           0.0            3.0      Test   \n",
      "\n",
      "                   visitor_id                      visit_id process_step  \\\n",
      "0        427070339_1413275162   228976764_46825473280_96584      confirm   \n",
      "1        427070339_1413275162   228976764_46825473280_96584      confirm   \n",
      "2        427070339_1413275162   228976764_46825473280_96584      confirm   \n",
      "3        427070339_1413275162   228976764_46825473280_96584       step_3   \n",
      "4        427070339_1413275162   228976764_46825473280_96584       step_2   \n",
      "...                       ...                           ...          ...   \n",
      "321304  317123960_46820919455  769876461_30381166055_830233       step_2   \n",
      "321305  317123960_46820919455  769876461_30381166055_830233       step_1   \n",
      "321306  317123960_46820919455  769876461_30381166055_830233        start   \n",
      "321307  317123960_46820919455  769876461_30381166055_830233        start   \n",
      "321308  317123960_46820919455  769876461_30381166055_830233        start   \n",
      "\n",
      "                  date_time  \n",
      "0       2017-04-02 11:51:13  \n",
      "1       2017-04-02 11:47:50  \n",
      "2       2017-04-02 11:46:45  \n",
      "3       2017-04-02 11:23:08  \n",
      "4       2017-04-02 11:22:24  \n",
      "...                     ...  \n",
      "321304  2017-03-30 23:59:15  \n",
      "321305  2017-03-30 23:58:51  \n",
      "321306  2017-03-30 23:58:40  \n",
      "321307  2017-03-30 23:55:11  \n",
      "321308  2017-03-31 00:16:12  \n",
      "\n",
      "[177787 rows x 14 columns]\n"
     ]
    }
   ],
   "source": [
    "# Drop rows with null values in the specified columns\n",
    "test_df1 = test_df1.dropna(subset=columns_to_check)\n",
    "\n",
    "# Display the number of rows dropped\n",
    "rows_dropped = len(df) - len(test_df1)\n",
    "print(\"\\nTotal number of rows dropped:\", rows_dropped)\n",
    "\n",
    "# Display the cleaned DataFrame\n",
    "print(\"\\nCleaned DataFrame:\")\n",
    "print(test_df1)\n",
    "\n",
    "control_count = len(test_df1)"
   ]
  },
  {
   "cell_type": "code",
   "execution_count": 113,
   "id": "75492eb8-07d7-4121-80ec-659bfd3ffd04",
   "metadata": {
    "tags": []
   },
   "outputs": [
    {
     "name": "stdout",
     "output_type": "stream",
     "text": [
      "<class 'pandas.core.frame.DataFrame'>\n",
      "Index: 177787 entries, 0 to 321308\n",
      "Data columns (total 14 columns):\n",
      " #   Column            Non-Null Count   Dtype  \n",
      "---  ------            --------------   -----  \n",
      " 0   client_id         177787 non-null  int64  \n",
      " 1   clnt_tenure_yr    177787 non-null  float64\n",
      " 2   clnt_tenure_mnth  177787 non-null  float64\n",
      " 3   clnt_age          177787 non-null  float64\n",
      " 4   gendr             177787 non-null  object \n",
      " 5   num_accts         177787 non-null  float64\n",
      " 6   bal               177787 non-null  float64\n",
      " 7   calls_6_mnth      177787 non-null  float64\n",
      " 8   logons_6_mnth     177787 non-null  float64\n",
      " 9   Variation         177787 non-null  object \n",
      " 10  visitor_id        177787 non-null  object \n",
      " 11  visit_id          177787 non-null  object \n",
      " 12  process_step      177787 non-null  object \n",
      " 13  date_time         177787 non-null  object \n",
      "dtypes: float64(7), int64(1), object(6)\n",
      "memory usage: 20.3+ MB\n"
     ]
    }
   ],
   "source": [
    "test_df1.info()"
   ]
  },
  {
   "cell_type": "code",
   "execution_count": 119,
   "id": "895d098a-8833-4de4-809f-d33a6842bdd1",
   "metadata": {
    "tags": []
   },
   "outputs": [
    {
     "name": "stdout",
     "output_type": "stream",
     "text": [
      "<class 'pandas.core.frame.DataFrame'>\n",
      "Index: 177787 entries, 0 to 321308\n",
      "Data columns (total 14 columns):\n",
      " #   Column            Non-Null Count   Dtype  \n",
      "---  ------            --------------   -----  \n",
      " 0   client_id         177787 non-null  int64  \n",
      " 1   clnt_tenure_yr    177787 non-null  int64  \n",
      " 2   clnt_tenure_mnth  177787 non-null  int64  \n",
      " 3   clnt_age          177787 non-null  int64  \n",
      " 4   gendr             177787 non-null  object \n",
      " 5   num_accts         177787 non-null  int64  \n",
      " 6   bal               177787 non-null  float64\n",
      " 7   calls_6_mnth      177787 non-null  int64  \n",
      " 8   logons_6_mnth     177787 non-null  int64  \n",
      " 9   Variation         177787 non-null  object \n",
      " 10  visitor_id        177787 non-null  object \n",
      " 11  visit_id          177787 non-null  object \n",
      " 12  process_step      177787 non-null  object \n",
      " 13  date_time         177787 non-null  object \n",
      "dtypes: float64(1), int64(7), object(6)\n",
      "memory usage: 20.3+ MB\n",
      "None\n"
     ]
    }
   ],
   "source": [
    "#convert following columns in int\n",
    "\n",
    "# List of columns to be converted to int control_df\n",
    "cols_to_convert = ['clnt_age', 'logons_6_mnth','calls_6_mnth', 'clnt_tenure_yr','clnt_tenure_mnth', 'num_accts']\n",
    "\n",
    "# Convert specified columns to int\n",
    "test_df1[cols_to_convert] = test_df1[cols_to_convert].astype(int)\n",
    "\n",
    "# Display the DataFrame to verify changes\n",
    "print(test_df1.info())\n",
    "test_df2=test_df1.copy()"
   ]
  },
  {
   "cell_type": "code",
   "execution_count": 121,
   "id": "8e2ba075-57d8-41b6-a761-a0b6030ac615",
   "metadata": {
    "tags": []
   },
   "outputs": [
    {
     "name": "stdout",
     "output_type": "stream",
     "text": [
      "Oldest Date: 2017-03-15 00:43:23\n",
      "Most Recent Date: 2017-06-20 23:21:23\n"
     ]
    }
   ],
   "source": [
    "\n",
    "# Find the oldest and most recent dates\n",
    "oldest_date = test_df2['date_time'].min()\n",
    "most_recent_date = test_df2['date_time'].max()\n",
    "\n",
    "# Print the oldest and most recent dates\n",
    "print(\"Oldest Date:\", oldest_date)\n",
    "print(\"Most Recent Date:\", most_recent_date)"
   ]
  },
  {
   "cell_type": "code",
   "execution_count": null,
   "id": "b9bfd843-dc96-4287-a86c-933c35d6bbc8",
   "metadata": {},
   "outputs": [],
   "source": []
  },
  {
   "cell_type": "code",
   "execution_count": null,
   "id": "0a86ad0f-dec5-45f2-8305-212762982585",
   "metadata": {},
   "outputs": [],
   "source": []
  },
  {
   "cell_type": "markdown",
   "id": "e46efd76-9921-4002-8cff-42006d8573d0",
   "metadata": {},
   "source": [
    "# other df"
   ]
  },
  {
   "cell_type": "code",
   "execution_count": 32,
   "id": "f999ca15-108d-46a1-a171-a487631562bf",
   "metadata": {
    "tags": []
   },
   "outputs": [
    {
     "name": "stdout",
     "output_type": "stream",
     "text": [
      "<class 'pandas.core.frame.DataFrame'>\n",
      "Index: 434096 entries, 321309 to 755404\n",
      "Data columns (total 14 columns):\n",
      " #   Column            Non-Null Count   Dtype  \n",
      "---  ------            --------------   -----  \n",
      " 0   client_id         434096 non-null  int64  \n",
      " 1   clnt_tenure_yr    128509 non-null  float64\n",
      " 2   clnt_tenure_mnth  128509 non-null  float64\n",
      " 3   clnt_age          128509 non-null  float64\n",
      " 4   gendr             128509 non-null  object \n",
      " 5   num_accts         128509 non-null  float64\n",
      " 6   bal               128509 non-null  float64\n",
      " 7   calls_6_mnth      128509 non-null  float64\n",
      " 8   logons_6_mnth     128509 non-null  float64\n",
      " 9   Variation         0 non-null       object \n",
      " 10  visitor_id        434096 non-null  object \n",
      " 11  visit_id          434096 non-null  object \n",
      " 12  process_step      434096 non-null  object \n",
      " 13  date_time         434096 non-null  object \n",
      "dtypes: float64(7), int64(1), object(6)\n",
      "memory usage: 49.7+ MB\n"
     ]
    }
   ],
   "source": [
    "other_df.info()"
   ]
  },
  {
   "cell_type": "code",
   "execution_count": 42,
   "id": "511ef965-b771-4f0d-b94b-f4e00fb3cc59",
   "metadata": {
    "tags": []
   },
   "outputs": [
    {
     "name": "stdout",
     "output_type": "stream",
     "text": [
      "Number of rows in the original DataFrame: 755405\n",
      "Number of rows in the Control DataFrame: 143462\n",
      "Number of rows in the Test DataFrame: 177847\n",
      "Number of rows in the Other DataFrame: 434096\n"
     ]
    }
   ],
   "source": [
    "original_count = len(df)\n",
    "control_count = len(control_df)\n",
    "test_count = len(test_df)\n",
    "other_count = len(other_df)\n",
    "\n",
    "# Display the counts\n",
    "print(\"Number of rows in the original DataFrame:\", original_count)\n",
    "print(\"Number of rows in the Control DataFrame:\", control_count)\n",
    "print(\"Number of rows in the Test DataFrame:\", test_count)\n",
    "print(\"Number of rows in the Other DataFrame:\", other_count)"
   ]
  },
  {
   "cell_type": "code",
   "execution_count": 48,
   "id": "51253dd5-4bc3-44fc-b43b-c6acadcfdc6a",
   "metadata": {
    "tags": []
   },
   "outputs": [
    {
     "name": "stdout",
     "output_type": "stream",
     "text": [
      "Rows in Control DataFrame with all null values:\n",
      "Empty DataFrame\n",
      "Columns: [client_id, clnt_tenure_yr, clnt_tenure_mnth, clnt_age, gendr, num_accts, bal, calls_6_mnth, logons_6_mnth, Variation, visitor_id, visit_id, process_step, date_time]\n",
      "Index: []\n"
     ]
    }
   ],
   "source": [
    "# null rows in all columns\n",
    "\n",
    "# Check if there are rows with all null values in control_df\n",
    "all_null_rows = control_df.isnull().all(axis=1)\n",
    "\n",
    "# Display the rows with all null values\n",
    "print(\"Rows in Control DataFrame with all null values:\")\n",
    "print(control_df[all_null_rows])"
   ]
  },
  {
   "cell_type": "code",
   "execution_count": 36,
   "id": "0811605a-7a9e-4446-83b6-8d317ac53aee",
   "metadata": {
    "tags": []
   },
   "outputs": [
    {
     "data": {
      "text/plain": [
       "array([nan], dtype=object)"
      ]
     },
     "execution_count": 36,
     "metadata": {},
     "output_type": "execute_result"
    }
   ],
   "source": [
    "other_df['Variation'].unique()"
   ]
  },
  {
   "cell_type": "code",
   "execution_count": 123,
   "id": "9b1b4fd7-6c6b-4103-b28c-0040741133c6",
   "metadata": {
    "tags": []
   },
   "outputs": [
    {
     "name": "stdout",
     "output_type": "stream",
     "text": [
      "Oldest Date: 2017-03-15 00:03:03\n",
      "Most Recent Date: 2017-06-20 23:59:57\n"
     ]
    }
   ],
   "source": [
    "# Find the oldest and most recent dates\n",
    "oldest_date = other_df['date_time'].min()\n",
    "most_recent_date = other_df['date_time'].max()\n",
    "\n",
    "# Print the oldest and most recent dates\n",
    "print(\"Oldest Date:\", oldest_date)\n",
    "print(\"Most Recent Date:\", most_recent_date)"
   ]
  },
  {
   "cell_type": "code",
   "execution_count": null,
   "id": "ce599e00-b331-45d3-b45e-cb4a576afb03",
   "metadata": {},
   "outputs": [],
   "source": [
    "#client_id: Every client's unique ID.\n",
    "#variation: Indicates if a client was part of the experiment.\n",
    "#visitor_id: A unique ID for each client-device combination.\n",
    "#visit_id: A unique ID for each web visit/session.\n",
    "#process_step: Marks each step in the digital process.\n",
    "#date_time: Timestamp of each web activity.\n",
    "#clnt_tenure_yr: Represents how long the client has been with Vanguard, measured in years.\n",
    "#clnt_tenure_mnth: Further breaks down the client's tenure with Vanguard in months.\n",
    "#clnt_age: Indicates the age of the client.\n",
    "#gendr: Specifies the client's gender.\n",
    "#num_accts: Denotes the number of accounts the client holds with Vanguard.\n",
    "#bal: Gives the total balance spread across all accounts for a particular client.\n",
    "#calls_6_mnth: Records the number of times the client reached out over a call in the past six months.\n",
    "#logons_6_mnth: Reflects the frequency with which the client logged onto Vanguard's platform over the last six months."
   ]
  },
  {
   "cell_type": "code",
   "execution_count": null,
   "id": "58ec0a07-b397-4617-a6d3-5bdb1f6bdc38",
   "metadata": {},
   "outputs": [],
   "source": [
    "\n",
    "# una vez limpios para separar en 3 df\n",
    "\n",
    "\n",
    "df = pd.DataFrame(data)\n",
    "\n",
    "# Create DataFrame for 'Test'\n",
    "df_test = df[df['process_step'] == 'Test']\n",
    "\n",
    "# Create DataFrame for 'Control'\n",
    "df_control = df[df['process_step'] == 'Control']\n",
    "\n",
    "# Create DataFrame for other (nan values in 'process_step')\n",
    "df_other = df[df['process_step'].isna()]\n",
    "\n",
    "# Display the DataFrames\n",
    "print(\"Test DataFrame:\")\n",
    "print(df_test)\n",
    "print(\"\\nControl DataFrame:\")\n",
    "print(df_control)\n",
    "print(\"\\nOther DataFrame (nan values):\")\n",
    "print(df_other)"
   ]
  }
 ],
 "metadata": {
  "kernelspec": {
   "display_name": "venv2",
   "language": "python",
   "name": "venv2"
  },
  "language_info": {
   "codemirror_mode": {
    "name": "ipython",
    "version": 3
   },
   "file_extension": ".py",
   "mimetype": "text/x-python",
   "name": "python",
   "nbconvert_exporter": "python",
   "pygments_lexer": "ipython3",
   "version": "3.11.7"
  }
 },
 "nbformat": 4,
 "nbformat_minor": 5
}
